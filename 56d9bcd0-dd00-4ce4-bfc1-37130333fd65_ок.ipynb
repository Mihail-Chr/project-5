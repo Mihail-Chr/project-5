{
 "cells": [
  {
   "cell_type": "markdown",
   "id": "CUQuYmMs-mKK",
   "metadata": {
    "deletable": false,
    "editable": false,
    "id": "CUQuYmMs-mKK",
    "tags": [
     "21a32eca-7494-4096-b202-21be1b7f0a7d"
    ]
   },
   "source": []
  },
  {
   "cell_type": "markdown",
   "id": "1ff1020a",
   "metadata": {
    "cellId": "pbwq209p45adtxfy5ofecd",
    "execution_id": "7cb94123-6481-41de-973a-91abe63db303",
    "id": "1ff1020a"
   },
   "source": [
    "# Сборный проект-4\n",
    "\n",
    "Вам поручено разработать демонстрационную версию поиска изображений по запросу.\n",
    "\n",
    "Для демонстрационной версии нужно обучить модель, которая получит векторное представление изображения, векторное представление текста, а на выходе выдаст число от 0 до 1 — покажет, насколько текст и картинка подходят друг другу.\n",
    "\n",
    "### Описание данных\n",
    "\n",
    "Данные доступны по [ссылке](https://code.s3.yandex.net/datasets/dsplus_integrated_project_4.zip).\n",
    "\n",
    "В файле `train_dataset.csv` находится информация, необходимая для обучения: имя файла изображения, идентификатор описания и текст описания. Для одной картинки может быть доступно до 5 описаний. Идентификатор описания имеет формат `<имя файла изображения>#<порядковый номер описания>`.\n",
    "\n",
    "В папке `train_images` содержатся изображения для тренировки модели.\n",
    "\n",
    "В файле `CrowdAnnotations.tsv` — данные по соответствию изображения и описания, полученные с помощью краудсорсинга. Номера колонок и соответствующий тип данных:\n",
    "\n",
    "1. Имя файла изображения.\n",
    "2. Идентификатор описания.\n",
    "3. Доля людей, подтвердивших, что описание соответствует изображению.\n",
    "4. Количество человек, подтвердивших, что описание соответствует изображению.\n",
    "5. Количество человек, подтвердивших, что описание не соответствует изображению.\n",
    "\n",
    "В файле `ExpertAnnotations.tsv` содержатся данные по соответствию изображения и описания, полученные в результате опроса экспертов. Номера колонок и соответствующий тип данных:\n",
    "\n",
    "1. Имя файла изображения.\n",
    "2. Идентификатор описания.\n",
    "\n",
    "3, 4, 5 — оценки трёх экспертов.\n",
    "\n",
    "Эксперты ставят оценки по шкале от 1 до 4, где 1 — изображение и запрос совершенно не соответствуют друг другу, 2 — запрос содержит элементы описания изображения, но в целом запрос тексту не соответствует, 3 — запрос и текст соответствуют с точностью до некоторых деталей, 4 — запрос и текст соответствуют полностью.\n",
    "\n",
    "В файле `test_queries.csv` находится информация, необходимая для тестирования: идентификатор запроса, текст запроса и релевантное изображение. Для одной картинки может быть доступно до 5 описаний. Идентификатор описания имеет формат `<имя файла изображения>#<порядковый номер описания>`.\n",
    "\n",
    "В папке `test_images` содержатся изображения для тестирования модели."
   ]
  },
  {
   "cell_type": "markdown",
   "id": "0d43b74e-aa2b-44b7-bcb3-e2f1577dca0b",
   "metadata": {},
   "source": [
    "!pip install sparse\n",
    "!pip install wordcloud\n",
    "!pip install tensorflow_hub\n",
    "!pip install catboost "
   ]
  },
  {
   "cell_type": "code",
   "execution_count": 46,
   "id": "79250670",
   "metadata": {
    "cellId": "exl6m83oldxqlu1vq1s6",
    "id": "79250670"
   },
   "outputs": [
    {
     "name": "stdout",
     "output_type": "stream",
     "text": [
      "Collecting en-core-web-sm==3.8.0\n",
      "  Downloading https://github.com/explosion/spacy-models/releases/download/en_core_web_sm-3.8.0/en_core_web_sm-3.8.0-py3-none-any.whl (12.8 MB)\n",
      "     ---------------------------------------- 0.0/12.8 MB ? eta -:--:--\n",
      "     - -------------------------------------- 0.5/12.8 MB 5.7 MB/s eta 0:00:03\n",
      "     ---------------- ----------------------- 5.2/12.8 MB 18.8 MB/s eta 0:00:01\n",
      "     ----------------------- ---------------- 7.6/12.8 MB 15.7 MB/s eta 0:00:01\n",
      "     --------------------------------- ----- 11.0/12.8 MB 15.3 MB/s eta 0:00:01\n",
      "     --------------------------------------- 12.8/12.8 MB 15.4 MB/s eta 0:00:00\n",
      "\u001b[38;5;2m[+] Download and installation successful\u001b[0m\n",
      "You can now load the package via spacy.load('en_core_web_sm')\n",
      "Using device: cuda\n"
     ]
    },
    {
     "name": "stderr",
     "output_type": "stream",
     "text": [
      "Invalid -W option ignored: unknown warning category: 'ConvergenceWarning'\n",
      "Invalid -W option ignored: unknown warning category: 'ConvergenceWarning'\n",
      "\n",
      "[notice] A new release of pip is available: 25.0.1 -> 25.1.1\n",
      "[notice] To update, run: python.exe -m pip install --upgrade pip\n"
     ]
    }
   ],
   "source": [
    "# общие библиотеки Pandas\n",
    "#from IPython.display import clear_output\n",
    "import pandas as pd\n",
    "import numpy as np\n",
    "import seaborn as sns\n",
    "import re\n",
    "import matplotlib.pyplot as plt\n",
    "import string\n",
    "\n",
    "import requests\n",
    "import zipfile\n",
    "import io\n",
    "from urllib.request import urlopen\n",
    "import shutil\n",
    "\n",
    "\n",
    "from catboost import CatBoostRegressor, Pool\n",
    "#from catboost.utils import get_confusion_matrix\n",
    "\n",
    "import torch\n",
    "import torch.nn as nn\n",
    "import sparse\n",
    "#from sparse import SparseTensor\n",
    "\n",
    "from sklearn.metrics import f1_score ,root_mean_squared_error,r2_score,median_absolute_error,mean_absolute_error\n",
    "from sklearn.preprocessing import StandardScaler, MinMaxScaler,OneHotEncoder\n",
    "from sklearn.model_selection import (train_test_split,GridSearchCV,cross_val_score)\n",
    "from sklearn.svm import SVR\n",
    "from sklearn.linear_model import LinearRegression,LogisticRegression,Ridge, PassiveAggressiveRegressor,SGDRegressor\n",
    "from sklearn.neighbors import KNeighborsRegressor\n",
    "from sklearn.ensemble import RandomForestRegressor\n",
    "#from sklearn.dummy import DummyClassifier\n",
    "from sklearn.pipeline import Pipeline\n",
    "from sklearn.compose import ColumnTransformer\n",
    "from sklearn.feature_extraction.text import TfidfVectorizer\n",
    "\n",
    "\n",
    "from wordcloud import WordCloud\n",
    "\n",
    "\n",
    "#m = Mystem() \n",
    "\n",
    "import spacy\n",
    "from spacy.lang.en import English\n",
    "from scipy.sparse import hstack,coo_array, vstack,csr_matrix,coo_matrix\n",
    "#spacy.load('en_core_web_sm')\n",
    "!python -m spacy download en_core_web_sm\n",
    "import nltk\n",
    "from nltk import pos_tag\n",
    "from nltk.corpus import stopwords as nltk_sw\n",
    "#from nltk.tokenize import word_tokenize\n",
    "from nltk.sentiment import SentimentIntensityAnalyzer\n",
    "from nltk.stem import WordNetLemmatizer\n",
    "from nltk.probability import FreqDist\n",
    "\n",
    "\n",
    "import gensim\n",
    "from gensim.models import Word2Vec,Doc2Vec\n",
    "from gensim.utils import simple_preprocess\n",
    "import gensim.downloader as api\n",
    "\n",
    "from tensorflow.keras.preprocessing.text import Tokenizer\n",
    "from tensorflow.keras.preprocessing.sequence import pad_sequences\n",
    "from tensorflow.keras.layers import Embedding, Conv1D, MaxPooling1D, Flatten, Dense\n",
    "from tensorflow.keras.models import Sequential\n",
    "from tensorflow.keras.applications.resnet50 import preprocess_input, decode_predictions\n",
    "from tensorflow.keras.preprocessing import image\n",
    "\n",
    "\n",
    "from tqdm import notebook\n",
    "from torchvision import transforms\n",
    "import torchvision.models as models\n",
    "import torch.nn as nn\n",
    "from PIL import Image\n",
    "\n",
    "import warnings\n",
    "from sklearn.exceptions import ConvergenceWarning\n",
    "ConvergenceWarning('ignore')\n",
    "import sys\n",
    "import os\n",
    "\n",
    "#random.seed(0)\n",
    "np.random.seed(0)\n",
    "torch.manual_seed(0)\n",
    "#torch.use_deterministic_algorithms(True)\n",
    "\n",
    "from numba import jit, cuda, njit \n",
    "\n",
    "device = torch.device(\"cuda\" if torch.cuda.is_available() else \"cpu\")\n",
    "print(f\"Using device: {device}\")\n",
    "jit(target_backend='cuda') \n",
    "njit(parallel=True)\n",
    "\n",
    "\n",
    "\n",
    "if not sys.warnoptions:\n",
    "    warnings.simplefilter(\"ignore\")\n",
    "    os.environ[\"PYTHONWARNINGS\"] = ('ignore::UserWarning,ignore::ConvergenceWarning,ignore::RuntimeWarning')\n",
    "    \n",
    "#optuna.logging.set_verbosity(optuna.logging.WARNING)\n",
    "    \n",
    "pd.options.mode.chained_assignment = None\n",
    "pd.options.display.float_format = '{:,.3f}'.format\n",
    "pd.DataFrame.iteritems = pd.DataFrame.items\n",
    "RANDOM_STATE = 255\n",
    "TEST_SIZE = 0.20\n",
    "vector_size=800\n",
    "warnings.filterwarnings('ignore')"
   ]
  },
  {
   "cell_type": "code",
   "execution_count": 2,
   "id": "1b59b42b",
   "metadata": {},
   "outputs": [
    {
     "name": "stdout",
     "output_type": "stream",
     "text": [
      "Using device: cuda\n",
      "Number of CPU cores: 4\n",
      "Using device: cuda\n"
     ]
    }
   ],
   "source": [
    "from numba import jit, cuda, njit \n",
    "import tensorflow as tf\n",
    "import transformers\n",
    "\n",
    "device = torch.device(\"cuda\" if torch.cuda.is_available() else \"cpu\")\n",
    "print(f\"Using device: {device}\")\n",
    "jit(target_backend='cuda') \n",
    "njit(parallel=True)\n",
    "\n",
    "import multiprocessing\n",
    "cores = multiprocessing.cpu_count()\n",
    "print(f\"Number of CPU cores: {cores}\")\n",
    "device = torch.device(\"cuda\" if torch.cuda.is_available() else \"cpu\")\n",
    "print(f\"Using device: {device}\")\n",
    "#print('device  :',device)"
   ]
  },
  {
   "cell_type": "code",
   "execution_count": 3,
   "id": "9ef1611f",
   "metadata": {},
   "outputs": [],
   "source": [
    "# лемманизация \n",
    "\n",
    "def lem_spa(text):\n",
    "    jit(target_backend='cuda') \n",
    "    njit(parallel=True)\n",
    "    physical_devices = tf.config.list_physical_devices('GPU') \n",
    "    #dis_word = ['girl','girls','boy','boys','children','child','baby']\n",
    "    text_lem = \" \".join([token.lemma_ for token in nlp(text)\n",
    "                         if (token.is_alpha\n",
    "                             and not token.is_currency\n",
    "                             and not token.is_digit\n",
    "                             #and not token.is_oov\n",
    "                             and not token.is_space\n",
    "                             and not token.is_stop\n",
    "                             and not token.like_num\n",
    "                             and not token.is_punct \n",
    "                             and not token.lemma_ in stopwords\n",
    "                             and not token.pos_ == \"PROPN\"\n",
    "                             and not len(token.lemma_)<=1 )\n",
    "                        ])       \n",
    "       \n",
    "    return (text_lem)"
   ]
  },
  {
   "cell_type": "code",
   "execution_count": 4,
   "id": "81f051fb",
   "metadata": {},
   "outputs": [],
   "source": [
    "# фукция параметров кросвалидации моделей\n",
    "def cv_model(clf,X_train,y_train,X_test,vec):\n",
    "        \n",
    "    physical_devices = tf.config.list_physical_devices('GPU')  \n",
    "    param_grid = {}\n",
    "    if clf.__class__.__name__ == 'SVR' :\n",
    "        param_grid = {#'models__tol': np.arange(0.001, 0.01, 0.006),\n",
    "                     'models__C':np.arange(0.1, 1.2, 0.4) }\n",
    "        \n",
    "    elif clf.__class__.__name__ == 'Ridge' :\n",
    "        param_grid = {'models__alpha': np.arange(0.3, 1, 0.1)                     }\n",
    "    elif clf.__class__.__name__ == 'LinearRegression' :\n",
    "        X_train = X_train.toarray()\n",
    "        X_test = X_test.toarray()\n",
    "        #scaler = StandardScaler()\n",
    "        #X_train = scaler.fit_transform(X_train)\n",
    "        #X_test = scaler.transform(X_test)\n",
    "    else  : param_grid = {} \n",
    "    #display (X_train,X_test)\n",
    "    pipe_final = Pipeline([('models',clf)])\n",
    "    GridCV = GridSearchCV(\n",
    "        pipe_final,\n",
    "        param_grid=param_grid, \n",
    "        cv=3,\n",
    "        scoring='neg_mean_absolute_error',\n",
    "        error_score='raise',\n",
    "        verbose=False,\n",
    "        n_jobs=-1\n",
    "    )\n",
    "    GridCV.fit(X_train, y_train)\n",
    "    clf_descr = clf.__class__.__name__\n",
    "        \n",
    "    print\n",
    "    print(clf_descr)\n",
    " \n",
    "        \n",
    "    pred = GridCV.best_estimator_.predict(X_train)\n",
    "    score = mean_absolute_error(y_train, pred)  #f1_score(y_test, pred) GridCV.best_score_\n",
    "    \n",
    "    print(f\"best parames :   {GridCV.best_params_}\")\n",
    "    print(f\"best score :   {score}\") #GridCV.best_score_\n",
    "    return (clf_descr, score,vec)"
   ]
  },
  {
   "cell_type": "code",
   "execution_count": 5,
   "id": "44333c15",
   "metadata": {},
   "outputs": [],
   "source": [
    "# кросвалидация моделей\n",
    "\n",
    "def cross_m (X_tr,y_train,X_ts,vec):\n",
    "    physical_devices = tf.config.list_physical_devices('GPU')\n",
    "    results = []\n",
    "    for clf in (\n",
    "        \n",
    "        #(LogisticRegression(C=0.01, max_iter=500)),\n",
    "        (Ridge(max_iter=300,random_state=RANDOM_STATE)),#,solver=\"sparse_cg\")),\n",
    "        (KNeighborsRegressor(n_neighbors=80)),\n",
    "        (LinearRegression(n_jobs=-1)),\n",
    "        (RandomForestRegressor(warm_start=True,random_state=RANDOM_STATE)),\n",
    "        (SVR(max_iter=300)), #,cache_size=8000,gamma='auto',probability=True,\n",
    "        (SGDRegressor( alpha=1e-4, n_iter_no_change=3, early_stopping=True)),\n",
    "        (PassiveAggressiveRegressor()),\n",
    "     \n",
    "        (CatBoostRegressor(iterations=1000, learning_rate=0.001, depth=6,                           \n",
    "                            loss_function='MAE',\n",
    "                            random_seed = RANDOM_STATE,\n",
    "                            early_stopping_rounds = 400,\n",
    "                            allow_writing_files=False,\n",
    "                            verbose= False))\n",
    "    ):\n",
    "        print(\"=\" * 80)\n",
    "        \n",
    "        #model_name,m_score = (cv_model(clf,X_tr,X_ts))\n",
    "        results.append(cv_model(clf,X_tr,y_train,X_ts,vec) )\n",
    "    return results"
   ]
  },
  {
   "cell_type": "markdown",
   "id": "01ddeec7-9410-496e-a4f2-3ec30311cdec",
   "metadata": {},
   "source": [
    "## Загрузка данных\n",
    "\n",
    "\n",
    "    - df1 - train_dataset.csv\n",
    "    - df2 - CrowdAnnotations.tsv\n",
    "    - df3 - ExpertAnnotations.tsv\n",
    "    - df4 - test_queries.csv\n",
    "    "
   ]
  },
  {
   "cell_type": "code",
   "execution_count": 6,
   "id": "1e65b27a",
   "metadata": {},
   "outputs": [
    {
     "data": {
      "text/html": [
       "<div>\n",
       "<style scoped>\n",
       "    .dataframe tbody tr th:only-of-type {\n",
       "        vertical-align: middle;\n",
       "    }\n",
       "\n",
       "    .dataframe tbody tr th {\n",
       "        vertical-align: top;\n",
       "    }\n",
       "\n",
       "    .dataframe thead th {\n",
       "        text-align: right;\n",
       "    }\n",
       "</style>\n",
       "<table border=\"1\" class=\"dataframe\">\n",
       "  <thead>\n",
       "    <tr style=\"text-align: right;\">\n",
       "      <th></th>\n",
       "      <th>image</th>\n",
       "      <th>query_id</th>\n",
       "      <th>query_text</th>\n",
       "    </tr>\n",
       "  </thead>\n",
       "  <tbody>\n",
       "    <tr>\n",
       "      <th>0</th>\n",
       "      <td>1056338697_4f7d7ce270.jpg</td>\n",
       "      <td>2549968784_39bfbe44f9.jpg#2</td>\n",
       "      <td>a young child is wearing blue goggles and sitt...</td>\n",
       "    </tr>\n",
       "    <tr>\n",
       "      <th>1</th>\n",
       "      <td>1262583859_653f1469a9.jpg</td>\n",
       "      <td>2549968784_39bfbe44f9.jpg#2</td>\n",
       "      <td>a young child is wearing blue goggles and sitt...</td>\n",
       "    </tr>\n",
       "    <tr>\n",
       "      <th>2</th>\n",
       "      <td>2447284966_d6bbdb4b6e.jpg</td>\n",
       "      <td>2549968784_39bfbe44f9.jpg#2</td>\n",
       "      <td>a young child is wearing blue goggles and sitt...</td>\n",
       "    </tr>\n",
       "    <tr>\n",
       "      <th>3</th>\n",
       "      <td>2549968784_39bfbe44f9.jpg</td>\n",
       "      <td>2549968784_39bfbe44f9.jpg#2</td>\n",
       "      <td>a young child is wearing blue goggles and sitt...</td>\n",
       "    </tr>\n",
       "    <tr>\n",
       "      <th>4</th>\n",
       "      <td>2621415349_ef1a7e73be.jpg</td>\n",
       "      <td>2549968784_39bfbe44f9.jpg#2</td>\n",
       "      <td>a young child is wearing blue goggles and sitt...</td>\n",
       "    </tr>\n",
       "    <tr>\n",
       "      <th>5</th>\n",
       "      <td>3030566410_393c36a6c5.jpg</td>\n",
       "      <td>2549968784_39bfbe44f9.jpg#2</td>\n",
       "      <td>a young child is wearing blue goggles and sitt...</td>\n",
       "    </tr>\n",
       "    <tr>\n",
       "      <th>6</th>\n",
       "      <td>3155451946_c0862c70cb.jpg</td>\n",
       "      <td>2549968784_39bfbe44f9.jpg#2</td>\n",
       "      <td>a young child is wearing blue goggles and sitt...</td>\n",
       "    </tr>\n",
       "    <tr>\n",
       "      <th>7</th>\n",
       "      <td>3222041930_f642f49d28.jpg</td>\n",
       "      <td>2549968784_39bfbe44f9.jpg#2</td>\n",
       "      <td>a young child is wearing blue goggles and sitt...</td>\n",
       "    </tr>\n",
       "    <tr>\n",
       "      <th>8</th>\n",
       "      <td>343218198_1ca90e0734.jpg</td>\n",
       "      <td>2549968784_39bfbe44f9.jpg#2</td>\n",
       "      <td>a young child is wearing blue goggles and sitt...</td>\n",
       "    </tr>\n",
       "    <tr>\n",
       "      <th>9</th>\n",
       "      <td>3718964174_cb2dc1615e.jpg</td>\n",
       "      <td>2549968784_39bfbe44f9.jpg#2</td>\n",
       "      <td>a young child is wearing blue goggles and sitt...</td>\n",
       "    </tr>\n",
       "  </tbody>\n",
       "</table>\n",
       "</div>"
      ],
      "text/plain": [
       "                       image                     query_id  \\\n",
       "0  1056338697_4f7d7ce270.jpg  2549968784_39bfbe44f9.jpg#2   \n",
       "1  1262583859_653f1469a9.jpg  2549968784_39bfbe44f9.jpg#2   \n",
       "2  2447284966_d6bbdb4b6e.jpg  2549968784_39bfbe44f9.jpg#2   \n",
       "3  2549968784_39bfbe44f9.jpg  2549968784_39bfbe44f9.jpg#2   \n",
       "4  2621415349_ef1a7e73be.jpg  2549968784_39bfbe44f9.jpg#2   \n",
       "5  3030566410_393c36a6c5.jpg  2549968784_39bfbe44f9.jpg#2   \n",
       "6  3155451946_c0862c70cb.jpg  2549968784_39bfbe44f9.jpg#2   \n",
       "7  3222041930_f642f49d28.jpg  2549968784_39bfbe44f9.jpg#2   \n",
       "8   343218198_1ca90e0734.jpg  2549968784_39bfbe44f9.jpg#2   \n",
       "9  3718964174_cb2dc1615e.jpg  2549968784_39bfbe44f9.jpg#2   \n",
       "\n",
       "                                          query_text  \n",
       "0  a young child is wearing blue goggles and sitt...  \n",
       "1  a young child is wearing blue goggles and sitt...  \n",
       "2  a young child is wearing blue goggles and sitt...  \n",
       "3  a young child is wearing blue goggles and sitt...  \n",
       "4  a young child is wearing blue goggles and sitt...  \n",
       "5  a young child is wearing blue goggles and sitt...  \n",
       "6  a young child is wearing blue goggles and sitt...  \n",
       "7  a young child is wearing blue goggles and sitt...  \n",
       "8  a young child is wearing blue goggles and sitt...  \n",
       "9  a young child is wearing blue goggles and sitt...  "
      ]
     },
     "metadata": {},
     "output_type": "display_data"
    },
    {
     "name": "stdout",
     "output_type": "stream",
     "text": [
      "<class 'pandas.core.frame.DataFrame'>\n",
      "RangeIndex: 5822 entries, 0 to 5821\n",
      "Data columns (total 3 columns):\n",
      " #   Column      Non-Null Count  Dtype \n",
      "---  ------      --------------  ----- \n",
      " 0   image       5822 non-null   object\n",
      " 1   query_id    5822 non-null   object\n",
      " 2   query_text  5822 non-null   object\n",
      "dtypes: object(3)\n",
      "memory usage: 136.6+ KB\n"
     ]
    },
    {
     "data": {
      "text/plain": [
       "image         1000\n",
       "query_id       977\n",
       "query_text     977\n",
       "dtype: int64"
      ]
     },
     "execution_count": 6,
     "metadata": {},
     "output_type": "execute_result"
    }
   ],
   "source": [
    "# чтение фаила\n",
    "import zipfile\n",
    "try :\n",
    "    df1 = pd.read_csv('D:/YandexDisk/masterskay/сводный проект 5/to_upload/train_dataset.csv')#,\n",
    "    path_train = '/to_upload/train/'\n",
    "    zipfile = 0                  \n",
    "except:\n",
    "    url = 'https://code.s3.yandex.net/datasets/dsplus_integrated_project_4.zip'\n",
    "    file_name = 'dsplus_integrated_project_4.zip'\n",
    "    \n",
    "    with urlopen(url) as response, open(file_name, 'wb') as out_file:\n",
    "        shutil.copyfileobj(response, out_file)\n",
    "        \n",
    "    # extracting required file from zipfile\n",
    "        with zipfile.ZipFile(file_name) as zf:\n",
    "            zf.extract('to_upload/train_dataset.csv')\n",
    "\n",
    "    df1 = pd.read_csv('to_upload/train_dataset.csv')\n",
    "    zipfile = 1\n",
    "                      \n",
    "df1['query_text'] = df1['query_text'].apply(lambda x: x.lower())\n",
    "display(df1.head(10))\n",
    "df1.info()\n",
    "df1.nunique()\n",
    "\n"
   ]
  },
  {
   "cell_type": "code",
   "execution_count": 7,
   "id": "c4805a17-3871-463d-8123-5fefba0c4bc4",
   "metadata": {},
   "outputs": [
    {
     "name": "stdout",
     "output_type": "stream",
     "text": [
      "<class 'pandas.core.frame.DataFrame'>\n",
      "Index: 1400 entries, 25 to 5818\n",
      "Data columns (total 4 columns):\n",
      " #   Column      Non-Null Count  Dtype \n",
      "---  ------      --------------  ----- \n",
      " 0   image       1400 non-null   object\n",
      " 1   query_id    1400 non-null   object\n",
      " 2   query_text  1400 non-null   object\n",
      " 3   disclaim    1400 non-null   bool  \n",
      "dtypes: bool(1), object(3)\n",
      "memory usage: 45.1+ KB\n"
     ]
    },
    {
     "data": {
      "text/html": [
       "<div>\n",
       "<style scoped>\n",
       "    .dataframe tbody tr th:only-of-type {\n",
       "        vertical-align: middle;\n",
       "    }\n",
       "\n",
       "    .dataframe tbody tr th {\n",
       "        vertical-align: top;\n",
       "    }\n",
       "\n",
       "    .dataframe thead th {\n",
       "        text-align: right;\n",
       "    }\n",
       "</style>\n",
       "<table border=\"1\" class=\"dataframe\">\n",
       "  <thead>\n",
       "    <tr style=\"text-align: right;\">\n",
       "      <th></th>\n",
       "      <th>image</th>\n",
       "      <th>query_id</th>\n",
       "      <th>query_text</th>\n",
       "      <th>disclaim</th>\n",
       "    </tr>\n",
       "  </thead>\n",
       "  <tbody>\n",
       "    <tr>\n",
       "      <th>25</th>\n",
       "      <td>488590040_35a3e96c89.jpg</td>\n",
       "      <td>3181701312_70a379ab6e.jpg#2</td>\n",
       "      <td>a man sleeps under a blanket on a city street .</td>\n",
       "      <td>False</td>\n",
       "    </tr>\n",
       "    <tr>\n",
       "      <th>29</th>\n",
       "      <td>3251976937_20625dc2b8.jpg</td>\n",
       "      <td>3207358897_bfa61fa3c6.jpg#2</td>\n",
       "      <td>a woman plays with long red ribbons in an empt...</td>\n",
       "      <td>False</td>\n",
       "    </tr>\n",
       "    <tr>\n",
       "      <th>32</th>\n",
       "      <td>1962729184_6996e128e7.jpg</td>\n",
       "      <td>3286822339_5535af6b93.jpg#2</td>\n",
       "      <td>chinese market street in the winter time .</td>\n",
       "      <td>False</td>\n",
       "    </tr>\n",
       "    <tr>\n",
       "      <th>35</th>\n",
       "      <td>3100251515_c68027cc22.jpg</td>\n",
       "      <td>3286822339_5535af6b93.jpg#2</td>\n",
       "      <td>chinese market street in the winter time .</td>\n",
       "      <td>False</td>\n",
       "    </tr>\n",
       "    <tr>\n",
       "      <th>36</th>\n",
       "      <td>370614351_98b8a166b9.jpg</td>\n",
       "      <td>3286822339_5535af6b93.jpg#2</td>\n",
       "      <td>chinese market street in the winter time .</td>\n",
       "      <td>False</td>\n",
       "    </tr>\n",
       "  </tbody>\n",
       "</table>\n",
       "</div>"
      ],
      "text/plain": [
       "                        image                     query_id  \\\n",
       "25   488590040_35a3e96c89.jpg  3181701312_70a379ab6e.jpg#2   \n",
       "29  3251976937_20625dc2b8.jpg  3207358897_bfa61fa3c6.jpg#2   \n",
       "32  1962729184_6996e128e7.jpg  3286822339_5535af6b93.jpg#2   \n",
       "35  3100251515_c68027cc22.jpg  3286822339_5535af6b93.jpg#2   \n",
       "36   370614351_98b8a166b9.jpg  3286822339_5535af6b93.jpg#2   \n",
       "\n",
       "                                           query_text  disclaim  \n",
       "25    a man sleeps under a blanket on a city street .     False  \n",
       "29  a woman plays with long red ribbons in an empt...     False  \n",
       "32         chinese market street in the winter time .     False  \n",
       "35         chinese market street in the winter time .     False  \n",
       "36         chinese market street in the winter time .     False  "
      ]
     },
     "metadata": {},
     "output_type": "display_data"
    }
   ],
   "source": [
    "# информация взята с сайтов\n",
    "# https://lewisforemanschool.ru/popularwords/children \n",
    "# https://letslearnslang.com/slang-words-for-baby/\n",
    "\n",
    "dis_word = ['girl','girls','boy','boys','children','child','baby',\n",
    "            'kid','kids','babies','infant','toddler','newborn','adolescent',\n",
    "            'teenager','junior','kiddie','kiddo','munchkin','squirt','tike','tyke',\n",
    "            'tot']\n",
    "chk_pat = '(?:{})'.format('|'.join(dis_word))\n",
    "\n",
    "# отчищаем базу от \n",
    "df1_clear = df1.copy()\n",
    "df1_clear['disclaim'] = df1_clear['query_text'].apply(lambda x  : bool(re.search(chk_pat, x)))#, flags=re.I\n",
    "\n",
    "df_fdc = df1_clear['image'][df1_clear['disclaim']==True]\n",
    "df_fdc = df_fdc.drop_duplicates().copy()\n",
    "\n",
    "df1_clear = df1_clear[~df1_clear['image'].isin(df_fdc)].copy()\n",
    "df1_clear.info()\n",
    "display(df1_clear.head())"
   ]
  },
  {
   "cell_type": "code",
   "execution_count": 8,
   "id": "d66d1772-7539-4ac1-a109-80c229afb995",
   "metadata": {},
   "outputs": [
    {
     "data": {
      "text/html": [
       "<div>\n",
       "<style scoped>\n",
       "    .dataframe tbody tr th:only-of-type {\n",
       "        vertical-align: middle;\n",
       "    }\n",
       "\n",
       "    .dataframe tbody tr th {\n",
       "        vertical-align: top;\n",
       "    }\n",
       "\n",
       "    .dataframe thead th {\n",
       "        text-align: right;\n",
       "    }\n",
       "</style>\n",
       "<table border=\"1\" class=\"dataframe\">\n",
       "  <thead>\n",
       "    <tr style=\"text-align: right;\">\n",
       "      <th></th>\n",
       "      <th>image</th>\n",
       "      <th>query_id</th>\n",
       "      <th>part_t</th>\n",
       "      <th>col_t</th>\n",
       "      <th>col_f</th>\n",
       "    </tr>\n",
       "  </thead>\n",
       "  <tbody>\n",
       "    <tr>\n",
       "      <th>0</th>\n",
       "      <td>1056338697_4f7d7ce270.jpg</td>\n",
       "      <td>1056338697_4f7d7ce270.jpg#2</td>\n",
       "      <td>1.000</td>\n",
       "      <td>3</td>\n",
       "      <td>0</td>\n",
       "    </tr>\n",
       "    <tr>\n",
       "      <th>1</th>\n",
       "      <td>1056338697_4f7d7ce270.jpg</td>\n",
       "      <td>114051287_dd85625a04.jpg#2</td>\n",
       "      <td>0.000</td>\n",
       "      <td>0</td>\n",
       "      <td>3</td>\n",
       "    </tr>\n",
       "    <tr>\n",
       "      <th>2</th>\n",
       "      <td>1056338697_4f7d7ce270.jpg</td>\n",
       "      <td>1427391496_ea512cbe7f.jpg#2</td>\n",
       "      <td>0.000</td>\n",
       "      <td>0</td>\n",
       "      <td>3</td>\n",
       "    </tr>\n",
       "    <tr>\n",
       "      <th>3</th>\n",
       "      <td>1056338697_4f7d7ce270.jpg</td>\n",
       "      <td>2073964624_52da3a0fc4.jpg#2</td>\n",
       "      <td>0.000</td>\n",
       "      <td>0</td>\n",
       "      <td>3</td>\n",
       "    </tr>\n",
       "    <tr>\n",
       "      <th>4</th>\n",
       "      <td>1056338697_4f7d7ce270.jpg</td>\n",
       "      <td>2083434441_a93bc6306b.jpg#2</td>\n",
       "      <td>0.000</td>\n",
       "      <td>0</td>\n",
       "      <td>3</td>\n",
       "    </tr>\n",
       "  </tbody>\n",
       "</table>\n",
       "</div>"
      ],
      "text/plain": [
       "                       image                     query_id  part_t  col_t  \\\n",
       "0  1056338697_4f7d7ce270.jpg  1056338697_4f7d7ce270.jpg#2   1.000      3   \n",
       "1  1056338697_4f7d7ce270.jpg   114051287_dd85625a04.jpg#2   0.000      0   \n",
       "2  1056338697_4f7d7ce270.jpg  1427391496_ea512cbe7f.jpg#2   0.000      0   \n",
       "3  1056338697_4f7d7ce270.jpg  2073964624_52da3a0fc4.jpg#2   0.000      0   \n",
       "4  1056338697_4f7d7ce270.jpg  2083434441_a93bc6306b.jpg#2   0.000      0   \n",
       "\n",
       "   col_f  \n",
       "0      0  \n",
       "1      3  \n",
       "2      3  \n",
       "3      3  \n",
       "4      3  "
      ]
     },
     "metadata": {},
     "output_type": "display_data"
    },
    {
     "name": "stdout",
     "output_type": "stream",
     "text": [
      "<class 'pandas.core.frame.DataFrame'>\n",
      "RangeIndex: 47830 entries, 0 to 47829\n",
      "Data columns (total 5 columns):\n",
      " #   Column    Non-Null Count  Dtype  \n",
      "---  ------    --------------  -----  \n",
      " 0   image     47830 non-null  object \n",
      " 1   query_id  47830 non-null  object \n",
      " 2   part_t    47830 non-null  float64\n",
      " 3   col_t     47830 non-null  int64  \n",
      " 4   col_f     47830 non-null  int64  \n",
      "dtypes: float64(1), int64(2), object(2)\n",
      "memory usage: 1.8+ MB\n"
     ]
    },
    {
     "data": {
      "text/plain": [
       "image       1000\n",
       "query_id    1000\n",
       "part_t        12\n",
       "col_t          6\n",
       "col_f          7\n",
       "dtype: int64"
      ]
     },
     "execution_count": 8,
     "metadata": {},
     "output_type": "execute_result"
    }
   ],
   "source": [
    "try :\n",
    "    df2 = pd.read_csv('D:/YandexDisk/masterskay/сводный проект 5/to_upload/CrowdAnnotations.tsv' , sep ='\\t',\n",
    "                      names = ['image','query_id', 'part_t','col_t','col_f'])\n",
    "    zipfile = 0                  \n",
    "except:\n",
    "   \n",
    "    url = 'https://code.s3.yandex.net/datasets/dsplus_integrated_project_4.zip'\n",
    "    file_name = 'dsplus_integrated_project_4.zip'\n",
    "    \n",
    "    with urlopen(url) as response, open(file_name, 'wb') as out_file:\n",
    "        shutil.copyfileobj(response, out_file)\n",
    "        \n",
    "    # extracting required file from zipfile\n",
    "        with zipfile.ZipFile(file_name) as zf:\n",
    "            zf.extract('to_upload/CrowdAnnotations.tsv')\n",
    "\n",
    "    df2 = pd.read_csv('to_upload/CrowdAnnotations.tsv', sep ='\\t',\n",
    "                      names = ['image','query_id', 'part_t','col_t','col_f'])\n",
    "    zipfile = 1\n",
    "\n",
    "display(df2.head())\n",
    "\n",
    "df2.info()\n",
    "df2.nunique()\n"
   ]
  },
  {
   "cell_type": "code",
   "execution_count": 9,
   "id": "2631e627-7e3b-4e8b-87fd-d3d8e4632477",
   "metadata": {},
   "outputs": [
    {
     "data": {
      "text/html": [
       "<div>\n",
       "<style scoped>\n",
       "    .dataframe tbody tr th:only-of-type {\n",
       "        vertical-align: middle;\n",
       "    }\n",
       "\n",
       "    .dataframe tbody tr th {\n",
       "        vertical-align: top;\n",
       "    }\n",
       "\n",
       "    .dataframe thead th {\n",
       "        text-align: right;\n",
       "    }\n",
       "</style>\n",
       "<table border=\"1\" class=\"dataframe\">\n",
       "  <thead>\n",
       "    <tr style=\"text-align: right;\">\n",
       "      <th></th>\n",
       "      <th>image</th>\n",
       "      <th>query_id</th>\n",
       "      <th>ex_1</th>\n",
       "      <th>ex_2</th>\n",
       "      <th>ex_3</th>\n",
       "    </tr>\n",
       "  </thead>\n",
       "  <tbody>\n",
       "    <tr>\n",
       "      <th>0</th>\n",
       "      <td>1056338697_4f7d7ce270.jpg</td>\n",
       "      <td>2549968784_39bfbe44f9.jpg#2</td>\n",
       "      <td>1</td>\n",
       "      <td>1</td>\n",
       "      <td>1</td>\n",
       "    </tr>\n",
       "    <tr>\n",
       "      <th>1</th>\n",
       "      <td>1056338697_4f7d7ce270.jpg</td>\n",
       "      <td>2718495608_d8533e3ac5.jpg#2</td>\n",
       "      <td>1</td>\n",
       "      <td>1</td>\n",
       "      <td>2</td>\n",
       "    </tr>\n",
       "    <tr>\n",
       "      <th>2</th>\n",
       "      <td>1056338697_4f7d7ce270.jpg</td>\n",
       "      <td>3181701312_70a379ab6e.jpg#2</td>\n",
       "      <td>1</td>\n",
       "      <td>1</td>\n",
       "      <td>2</td>\n",
       "    </tr>\n",
       "    <tr>\n",
       "      <th>3</th>\n",
       "      <td>1056338697_4f7d7ce270.jpg</td>\n",
       "      <td>3207358897_bfa61fa3c6.jpg#2</td>\n",
       "      <td>1</td>\n",
       "      <td>2</td>\n",
       "      <td>2</td>\n",
       "    </tr>\n",
       "    <tr>\n",
       "      <th>4</th>\n",
       "      <td>1056338697_4f7d7ce270.jpg</td>\n",
       "      <td>3286822339_5535af6b93.jpg#2</td>\n",
       "      <td>1</td>\n",
       "      <td>1</td>\n",
       "      <td>2</td>\n",
       "    </tr>\n",
       "  </tbody>\n",
       "</table>\n",
       "</div>"
      ],
      "text/plain": [
       "                       image                     query_id  ex_1  ex_2  ex_3\n",
       "0  1056338697_4f7d7ce270.jpg  2549968784_39bfbe44f9.jpg#2     1     1     1\n",
       "1  1056338697_4f7d7ce270.jpg  2718495608_d8533e3ac5.jpg#2     1     1     2\n",
       "2  1056338697_4f7d7ce270.jpg  3181701312_70a379ab6e.jpg#2     1     1     2\n",
       "3  1056338697_4f7d7ce270.jpg  3207358897_bfa61fa3c6.jpg#2     1     2     2\n",
       "4  1056338697_4f7d7ce270.jpg  3286822339_5535af6b93.jpg#2     1     1     2"
      ]
     },
     "metadata": {},
     "output_type": "display_data"
    },
    {
     "name": "stdout",
     "output_type": "stream",
     "text": [
      "<class 'pandas.core.frame.DataFrame'>\n",
      "RangeIndex: 5822 entries, 0 to 5821\n",
      "Data columns (total 5 columns):\n",
      " #   Column    Non-Null Count  Dtype \n",
      "---  ------    --------------  ----- \n",
      " 0   image     5822 non-null   object\n",
      " 1   query_id  5822 non-null   object\n",
      " 2   ex_1      5822 non-null   int64 \n",
      " 3   ex_2      5822 non-null   int64 \n",
      " 4   ex_3      5822 non-null   int64 \n",
      "dtypes: int64(3), object(2)\n",
      "memory usage: 227.6+ KB\n"
     ]
    },
    {
     "data": {
      "text/plain": [
       "image       1000\n",
       "query_id     977\n",
       "ex_1           4\n",
       "ex_2           4\n",
       "ex_3           4\n",
       "dtype: int64"
      ]
     },
     "execution_count": 9,
     "metadata": {},
     "output_type": "execute_result"
    }
   ],
   "source": [
    "try :\n",
    "    df3 = pd.read_csv('D:/YandexDisk/masterskay/сводный проект 5/to_upload/ExpertAnnotations.tsv' , sep ='\\t',\n",
    "                      names = ['image','query_id', 'ex_1','ex_2','ex_3',])\n",
    "    zipfile = 0                 \n",
    "except:\n",
    "    url = 'https://code.s3.yandex.net/datasets/dsplus_integrated_project_4.zip'\n",
    "    file_name = 'dsplus_integrated_project_4.zip'\n",
    "    \n",
    "    with urlopen(url) as response, open(file_name, 'wb') as out_file:\n",
    "        shutil.copyfileobj(response, out_file)\n",
    "        \n",
    "    # extracting required file from zipfile\n",
    "        with zipfile.ZipFile(file_name) as zf:\n",
    "            zf.extract('to_upload/ExpertAnnotations.tsv')\n",
    "\n",
    "    df3 = pd.read_csv('to_upload/ExpertAnnotations.tsv', sep ='\\t',\n",
    "                      names = ['image','query_id', 'ex_1','ex_2','ex_3',])\n",
    "    zipfile = 1\n",
    "display(df3.head())\n",
    "df3.info()\n",
    "df3.nunique()"
   ]
  },
  {
   "cell_type": "markdown",
   "id": "7cbaa861",
   "metadata": {
    "cellId": "9h91oxwx86d7i8rqt5miv4",
    "execution_id": "4401a0e8-fd2b-479b-9e84-6ffafbcead47",
    "id": "7cbaa861"
   },
   "source": [
    "## Проверка данных\n",
    "\n",
    "В некоторых странах, где работает ваша компания, действуют ограничения по обработке изображений: поисковым сервисам и сервисам, предоставляющим возможность поиска, запрещено без разрешения родителей или законных представителей предоставлять любую информацию, в том числе, но не исключительно тексты, изображения, видео и аудио, содержащие описание, изображение или запись голоса детей. Ребёнком считается любой человек, не достигший 16 лет.\n",
    "\n",
    "В вашем сервисе строго следуют законам стран, в которых работают. Поэтому при попытке посмотреть изображения, запрещённые законодательством, вместо картинок показывается дисклеймер:\n",
    "\n",
    "> This image is unavailable in your country in compliance with local laws\n",
    ">\n",
    "\n",
    "Однако у вас в PoC нет возможности воспользоваться данным функционалом. Поэтому все изображения, которые нарушают данный закон, нужно удалить из обучающей выборки."
   ]
  },
  {
   "cell_type": "code",
   "execution_count": 10,
   "id": "f504e34e-476b-4e23-93b2-9b35a7760478",
   "metadata": {},
   "outputs": [
    {
     "data": {
      "text/plain": [
       "True"
      ]
     },
     "metadata": {},
     "output_type": "display_data"
    },
    {
     "data": {
      "text/plain": [
       "True"
      ]
     },
     "metadata": {},
     "output_type": "display_data"
    },
    {
     "data": {
      "text/plain": [
       "False"
      ]
     },
     "metadata": {},
     "output_type": "display_data"
    },
    {
     "data": {
      "text/plain": [
       "False"
      ]
     },
     "metadata": {},
     "output_type": "display_data"
    },
    {
     "data": {
      "text/plain": [
       "True"
      ]
     },
     "metadata": {},
     "output_type": "display_data"
    }
   ],
   "source": [
    "#display(sorted(df1['image'].unique()))\n",
    "#display(sorted(df3['image'].unique()))\n",
    "\n",
    "display(sorted(df1['image'].unique())==sorted(df3['image'].unique()))\n",
    "display(sorted(df1['image'].unique())==sorted(df2['image'].unique()))\n",
    "display(sorted(df3['query_id'].unique())==sorted(df2['query_id'].unique()))\n",
    "display(sorted(df1['query_id'].unique())==sorted(df2['query_id'].unique()))\n",
    "display(sorted(df1['query_id'].unique())==sorted(df3['query_id'].unique()))\n",
    "#display(sorted(list(set(sorted(df2['query_id'].unique()))-set((sorted(df1['query_id'].unique()))))))\n",
    "#display(sorted(list(set(sorted(df2['query_id'].unique()))-set((sorted(df3['query_id'].unique()))))))\n"
   ]
  },
  {
   "cell_type": "markdown",
   "id": "99489b26",
   "metadata": {
    "cellId": "n6vkjcacwu39w29bfocxt",
    "execution_id": "1b731a18-3394-4b62-b3f7-018692c2d6de",
    "id": "99489b26"
   },
   "source": [
    "## Исследовательский анализ данных\n",
    "\n",
    "Наш датасет содержит экспертные и краудсорсинговые оценки соответствия текста и изображения.\n",
    "\n",
    "В файле с экспертными мнениями для каждой пары изображение-текст имеются оценки от трёх специалистов. Для решения задачи вы должны эти оценки агрегировать — превратить в одну. Существует несколько способов агрегации оценок, самый простой — голосование большинства: за какую оценку проголосовала большая часть экспертов (в нашем случае 2 или 3), та оценка и ставится как итоговая. Поскольку число экспертов меньше числа классов, может случиться, что каждый эксперт поставит разные оценки, например: 1, 4, 2. В таком случае данную пару изображение-текст можно исключить из датасета.\n",
    "\n",
    "Вы можете воспользоваться другим методом агрегации оценок или придумать свой.\n",
    "\n",
    "В файле с краудсорсинговыми оценками информация расположена в таком порядке:\n",
    "\n",
    "1. Доля исполнителей, подтвердивших, что текст **соответствует** картинке.\n",
    "2. Количество исполнителей, подтвердивших, что текст **соответствует** картинке.\n",
    "3. Количество исполнителей, подтвердивших, что текст **не соответствует** картинке.\n",
    "\n",
    "После анализа экспертных и краудсорсинговых оценок выберите либо одну из них, либо объедините их в одну по какому-то критерию: например, оценка эксперта принимается с коэффициентом 0.6, а крауда — с коэффициентом 0.4.\n",
    "\n",
    "Ваша модель должна возвращать на выходе вероятность соответствия изображения тексту, поэтому целевая переменная должна иметь значения от 0 до 1.\n"
   ]
  },
  {
   "cell_type": "code",
   "execution_count": 11,
   "id": "1d1b04fb-4186-4fd0-9127-50f0f4c5438f",
   "metadata": {},
   "outputs": [
    {
     "data": {
      "text/html": [
       "<div>\n",
       "<style scoped>\n",
       "    .dataframe tbody tr th:only-of-type {\n",
       "        vertical-align: middle;\n",
       "    }\n",
       "\n",
       "    .dataframe tbody tr th {\n",
       "        vertical-align: top;\n",
       "    }\n",
       "\n",
       "    .dataframe thead th {\n",
       "        text-align: right;\n",
       "    }\n",
       "</style>\n",
       "<table border=\"1\" class=\"dataframe\">\n",
       "  <thead>\n",
       "    <tr style=\"text-align: right;\">\n",
       "      <th></th>\n",
       "      <th>image</th>\n",
       "      <th>query_id</th>\n",
       "      <th>part_t</th>\n",
       "      <th>col_t</th>\n",
       "      <th>col_f</th>\n",
       "    </tr>\n",
       "  </thead>\n",
       "  <tbody>\n",
       "    <tr>\n",
       "      <th>35</th>\n",
       "      <td>1056338697_4f7d7ce270.jpg</td>\n",
       "      <td>3499720588_c32590108e.jpg#2</td>\n",
       "      <td>0.000</td>\n",
       "      <td>0</td>\n",
       "      <td>3</td>\n",
       "    </tr>\n",
       "    <tr>\n",
       "      <th>143</th>\n",
       "      <td>1084040636_97d9633581.jpg</td>\n",
       "      <td>2479162876_a5ce3306af.jpg#2</td>\n",
       "      <td>0.000</td>\n",
       "      <td>0</td>\n",
       "      <td>3</td>\n",
       "    </tr>\n",
       "    <tr>\n",
       "      <th>156</th>\n",
       "      <td>1084040636_97d9633581.jpg</td>\n",
       "      <td>3019842612_8501c1791e.jpg#2</td>\n",
       "      <td>0.000</td>\n",
       "      <td>0</td>\n",
       "      <td>3</td>\n",
       "    </tr>\n",
       "    <tr>\n",
       "      <th>197</th>\n",
       "      <td>1096395242_fc69f0ae5a.jpg</td>\n",
       "      <td>2431832075_00aa1a4457.jpg#2</td>\n",
       "      <td>0.000</td>\n",
       "      <td>0</td>\n",
       "      <td>3</td>\n",
       "    </tr>\n",
       "    <tr>\n",
       "      <th>245</th>\n",
       "      <td>1107246521_d16a476380.jpg</td>\n",
       "      <td>2431832075_00aa1a4457.jpg#2</td>\n",
       "      <td>0.000</td>\n",
       "      <td>0</td>\n",
       "      <td>3</td>\n",
       "    </tr>\n",
       "    <tr>\n",
       "      <th>...</th>\n",
       "      <td>...</td>\n",
       "      <td>...</td>\n",
       "      <td>...</td>\n",
       "      <td>...</td>\n",
       "      <td>...</td>\n",
       "    </tr>\n",
       "    <tr>\n",
       "      <th>47504</th>\n",
       "      <td>917574521_74fab68514.jpg</td>\n",
       "      <td>2431832075_00aa1a4457.jpg#2</td>\n",
       "      <td>0.000</td>\n",
       "      <td>0</td>\n",
       "      <td>3</td>\n",
       "    </tr>\n",
       "    <tr>\n",
       "      <th>47538</th>\n",
       "      <td>925491651_57df3a5b36.jpg</td>\n",
       "      <td>2054869561_ff723e9eab.jpg#2</td>\n",
       "      <td>0.000</td>\n",
       "      <td>0</td>\n",
       "      <td>3</td>\n",
       "    </tr>\n",
       "    <tr>\n",
       "      <th>47552</th>\n",
       "      <td>925491651_57df3a5b36.jpg</td>\n",
       "      <td>2482629385_f370b290d1.jpg#2</td>\n",
       "      <td>0.000</td>\n",
       "      <td>0</td>\n",
       "      <td>3</td>\n",
       "    </tr>\n",
       "    <tr>\n",
       "      <th>47595</th>\n",
       "      <td>929679367_ff8c7df2ee.jpg</td>\n",
       "      <td>2194494220_bb2178832c.jpg#2</td>\n",
       "      <td>0.000</td>\n",
       "      <td>0</td>\n",
       "      <td>3</td>\n",
       "    </tr>\n",
       "    <tr>\n",
       "      <th>47668</th>\n",
       "      <td>96420612_feb18fc6c6.jpg</td>\n",
       "      <td>3116769029_f5a76f04ba.jpg#2</td>\n",
       "      <td>0.000</td>\n",
       "      <td>0</td>\n",
       "      <td>3</td>\n",
       "    </tr>\n",
       "  </tbody>\n",
       "</table>\n",
       "<p>1109 rows × 5 columns</p>\n",
       "</div>"
      ],
      "text/plain": [
       "                           image                     query_id  part_t  col_t  \\\n",
       "35     1056338697_4f7d7ce270.jpg  3499720588_c32590108e.jpg#2   0.000      0   \n",
       "143    1084040636_97d9633581.jpg  2479162876_a5ce3306af.jpg#2   0.000      0   \n",
       "156    1084040636_97d9633581.jpg  3019842612_8501c1791e.jpg#2   0.000      0   \n",
       "197    1096395242_fc69f0ae5a.jpg  2431832075_00aa1a4457.jpg#2   0.000      0   \n",
       "245    1107246521_d16a476380.jpg  2431832075_00aa1a4457.jpg#2   0.000      0   \n",
       "...                          ...                          ...     ...    ...   \n",
       "47504   917574521_74fab68514.jpg  2431832075_00aa1a4457.jpg#2   0.000      0   \n",
       "47538   925491651_57df3a5b36.jpg  2054869561_ff723e9eab.jpg#2   0.000      0   \n",
       "47552   925491651_57df3a5b36.jpg  2482629385_f370b290d1.jpg#2   0.000      0   \n",
       "47595   929679367_ff8c7df2ee.jpg  2194494220_bb2178832c.jpg#2   0.000      0   \n",
       "47668    96420612_feb18fc6c6.jpg  3116769029_f5a76f04ba.jpg#2   0.000      0   \n",
       "\n",
       "       col_f  \n",
       "35         3  \n",
       "143        3  \n",
       "156        3  \n",
       "197        3  \n",
       "245        3  \n",
       "...      ...  \n",
       "47504      3  \n",
       "47538      3  \n",
       "47552      3  \n",
       "47595      3  \n",
       "47668      3  \n",
       "\n",
       "[1109 rows x 5 columns]"
      ]
     },
     "metadata": {},
     "output_type": "display_data"
    }
   ],
   "source": [
    "q_ex = sorted(list(set(sorted(df2['query_id'].unique()))-set((sorted(df1['query_id'].unique())))))\n",
    "display(df2[df2['query_id'].isin(q_ex)])"
   ]
  },
  {
   "cell_type": "code",
   "execution_count": 12,
   "id": "4e94892c-6792-483e-80dc-2c583a08b6eb",
   "metadata": {
    "cellId": "6j23jr8qr9wgyyqkm2puj",
    "id": "b352d2cd"
   },
   "outputs": [
    {
     "name": "stdout",
     "output_type": "stream",
     "text": [
      "<class 'pandas.core.frame.DataFrame'>\n",
      "RangeIndex: 1400 entries, 0 to 1399\n",
      "Data columns (total 7 columns):\n",
      " #   Column      Non-Null Count  Dtype \n",
      "---  ------      --------------  ----- \n",
      " 0   image       1400 non-null   object\n",
      " 1   query_id    1400 non-null   object\n",
      " 2   query_text  1400 non-null   object\n",
      " 3   disclaim    1400 non-null   bool  \n",
      " 4   ex_1        1400 non-null   int64 \n",
      " 5   ex_2        1400 non-null   int64 \n",
      " 6   ex_3        1400 non-null   int64 \n",
      "dtypes: bool(1), int64(3), object(3)\n",
      "memory usage: 67.1+ KB\n"
     ]
    },
    {
     "data": {
      "text/html": [
       "<div>\n",
       "<style scoped>\n",
       "    .dataframe tbody tr th:only-of-type {\n",
       "        vertical-align: middle;\n",
       "    }\n",
       "\n",
       "    .dataframe tbody tr th {\n",
       "        vertical-align: top;\n",
       "    }\n",
       "\n",
       "    .dataframe thead th {\n",
       "        text-align: right;\n",
       "    }\n",
       "</style>\n",
       "<table border=\"1\" class=\"dataframe\">\n",
       "  <thead>\n",
       "    <tr style=\"text-align: right;\">\n",
       "      <th></th>\n",
       "      <th>image</th>\n",
       "      <th>query_id</th>\n",
       "      <th>query_text</th>\n",
       "      <th>disclaim</th>\n",
       "      <th>ex_1</th>\n",
       "      <th>ex_2</th>\n",
       "      <th>ex_3</th>\n",
       "    </tr>\n",
       "  </thead>\n",
       "  <tbody>\n",
       "    <tr>\n",
       "      <th>0</th>\n",
       "      <td>488590040_35a3e96c89.jpg</td>\n",
       "      <td>3181701312_70a379ab6e.jpg#2</td>\n",
       "      <td>a man sleeps under a blanket on a city street .</td>\n",
       "      <td>False</td>\n",
       "      <td>1</td>\n",
       "      <td>2</td>\n",
       "      <td>2</td>\n",
       "    </tr>\n",
       "    <tr>\n",
       "      <th>1</th>\n",
       "      <td>3251976937_20625dc2b8.jpg</td>\n",
       "      <td>3207358897_bfa61fa3c6.jpg#2</td>\n",
       "      <td>a woman plays with long red ribbons in an empt...</td>\n",
       "      <td>False</td>\n",
       "      <td>1</td>\n",
       "      <td>1</td>\n",
       "      <td>1</td>\n",
       "    </tr>\n",
       "    <tr>\n",
       "      <th>2</th>\n",
       "      <td>1962729184_6996e128e7.jpg</td>\n",
       "      <td>3286822339_5535af6b93.jpg#2</td>\n",
       "      <td>chinese market street in the winter time .</td>\n",
       "      <td>False</td>\n",
       "      <td>1</td>\n",
       "      <td>2</td>\n",
       "      <td>3</td>\n",
       "    </tr>\n",
       "    <tr>\n",
       "      <th>3</th>\n",
       "      <td>3100251515_c68027cc22.jpg</td>\n",
       "      <td>3286822339_5535af6b93.jpg#2</td>\n",
       "      <td>chinese market street in the winter time .</td>\n",
       "      <td>False</td>\n",
       "      <td>1</td>\n",
       "      <td>1</td>\n",
       "      <td>1</td>\n",
       "    </tr>\n",
       "    <tr>\n",
       "      <th>4</th>\n",
       "      <td>370614351_98b8a166b9.jpg</td>\n",
       "      <td>3286822339_5535af6b93.jpg#2</td>\n",
       "      <td>chinese market street in the winter time .</td>\n",
       "      <td>False</td>\n",
       "      <td>1</td>\n",
       "      <td>1</td>\n",
       "      <td>1</td>\n",
       "    </tr>\n",
       "  </tbody>\n",
       "</table>\n",
       "</div>"
      ],
      "text/plain": [
       "                       image                     query_id  \\\n",
       "0   488590040_35a3e96c89.jpg  3181701312_70a379ab6e.jpg#2   \n",
       "1  3251976937_20625dc2b8.jpg  3207358897_bfa61fa3c6.jpg#2   \n",
       "2  1962729184_6996e128e7.jpg  3286822339_5535af6b93.jpg#2   \n",
       "3  3100251515_c68027cc22.jpg  3286822339_5535af6b93.jpg#2   \n",
       "4   370614351_98b8a166b9.jpg  3286822339_5535af6b93.jpg#2   \n",
       "\n",
       "                                          query_text  disclaim  ex_1  ex_2  \\\n",
       "0    a man sleeps under a blanket on a city street .     False     1     2   \n",
       "1  a woman plays with long red ribbons in an empt...     False     1     1   \n",
       "2         chinese market street in the winter time .     False     1     2   \n",
       "3         chinese market street in the winter time .     False     1     1   \n",
       "4         chinese market street in the winter time .     False     1     1   \n",
       "\n",
       "   ex_3  \n",
       "0     2  \n",
       "1     1  \n",
       "2     3  \n",
       "3     1  \n",
       "4     1  "
      ]
     },
     "metadata": {},
     "output_type": "display_data"
    }
   ],
   "source": [
    "df2=[]\n",
    "df_final = df1_clear.merge(df3, how='left', on=['query_id','image'], validate='one_to_one')#,'query_id']) , validate='one_to_one'\n",
    "df_final = df_final.drop_duplicates().copy()\n",
    "df_final.info()\n",
    "display(df_final.head())"
   ]
  },
  {
   "cell_type": "code",
   "execution_count": 13,
   "id": "ff4ecb33-fa6c-4efd-8d0a-5c99e1134227",
   "metadata": {},
   "outputs": [
    {
     "data": {
      "text/html": [
       "<div>\n",
       "<style scoped>\n",
       "    .dataframe tbody tr th:only-of-type {\n",
       "        vertical-align: middle;\n",
       "    }\n",
       "\n",
       "    .dataframe tbody tr th {\n",
       "        vertical-align: top;\n",
       "    }\n",
       "\n",
       "    .dataframe thead th {\n",
       "        text-align: right;\n",
       "    }\n",
       "</style>\n",
       "<table border=\"1\" class=\"dataframe\">\n",
       "  <thead>\n",
       "    <tr style=\"text-align: right;\">\n",
       "      <th></th>\n",
       "      <th>image</th>\n",
       "      <th>query_id</th>\n",
       "      <th>query_text</th>\n",
       "      <th>disclaim</th>\n",
       "      <th>ex_1</th>\n",
       "      <th>ex_2</th>\n",
       "      <th>ex_3</th>\n",
       "      <th>ex_max</th>\n",
       "      <th>ex_min</th>\n",
       "      <th>deff</th>\n",
       "    </tr>\n",
       "  </thead>\n",
       "  <tbody>\n",
       "  </tbody>\n",
       "</table>\n",
       "</div>"
      ],
      "text/plain": [
       "Empty DataFrame\n",
       "Columns: [image, query_id, query_text, disclaim, ex_1, ex_2, ex_3, ex_max, ex_min, deff]\n",
       "Index: []"
      ]
     },
     "metadata": {},
     "output_type": "display_data"
    },
    {
     "data": {
      "text/html": [
       "<div>\n",
       "<style scoped>\n",
       "    .dataframe tbody tr th:only-of-type {\n",
       "        vertical-align: middle;\n",
       "    }\n",
       "\n",
       "    .dataframe tbody tr th {\n",
       "        vertical-align: top;\n",
       "    }\n",
       "\n",
       "    .dataframe thead th {\n",
       "        text-align: right;\n",
       "    }\n",
       "</style>\n",
       "<table border=\"1\" class=\"dataframe\">\n",
       "  <thead>\n",
       "    <tr style=\"text-align: right;\">\n",
       "      <th></th>\n",
       "      <th>image</th>\n",
       "      <th>query_id</th>\n",
       "      <th>query_text</th>\n",
       "      <th>disclaim</th>\n",
       "      <th>ex_1</th>\n",
       "      <th>ex_2</th>\n",
       "      <th>ex_3</th>\n",
       "      <th>ex_max</th>\n",
       "      <th>ex_min</th>\n",
       "      <th>deff</th>\n",
       "    </tr>\n",
       "  </thead>\n",
       "  <tbody>\n",
       "    <tr>\n",
       "      <th>0</th>\n",
       "      <td>488590040_35a3e96c89.jpg</td>\n",
       "      <td>3181701312_70a379ab6e.jpg#2</td>\n",
       "      <td>a man sleeps under a blanket on a city street .</td>\n",
       "      <td>False</td>\n",
       "      <td>1</td>\n",
       "      <td>2</td>\n",
       "      <td>2</td>\n",
       "      <td>0.420</td>\n",
       "      <td>1</td>\n",
       "      <td>-0.580</td>\n",
       "    </tr>\n",
       "    <tr>\n",
       "      <th>1</th>\n",
       "      <td>3251976937_20625dc2b8.jpg</td>\n",
       "      <td>3207358897_bfa61fa3c6.jpg#2</td>\n",
       "      <td>a woman plays with long red ribbons in an empt...</td>\n",
       "      <td>False</td>\n",
       "      <td>1</td>\n",
       "      <td>1</td>\n",
       "      <td>1</td>\n",
       "      <td>0.250</td>\n",
       "      <td>1</td>\n",
       "      <td>-0.750</td>\n",
       "    </tr>\n",
       "    <tr>\n",
       "      <th>2</th>\n",
       "      <td>1962729184_6996e128e7.jpg</td>\n",
       "      <td>3286822339_5535af6b93.jpg#2</td>\n",
       "      <td>chinese market street in the winter time .</td>\n",
       "      <td>False</td>\n",
       "      <td>1</td>\n",
       "      <td>2</td>\n",
       "      <td>3</td>\n",
       "      <td>0.500</td>\n",
       "      <td>1</td>\n",
       "      <td>-0.500</td>\n",
       "    </tr>\n",
       "    <tr>\n",
       "      <th>3</th>\n",
       "      <td>3100251515_c68027cc22.jpg</td>\n",
       "      <td>3286822339_5535af6b93.jpg#2</td>\n",
       "      <td>chinese market street in the winter time .</td>\n",
       "      <td>False</td>\n",
       "      <td>1</td>\n",
       "      <td>1</td>\n",
       "      <td>1</td>\n",
       "      <td>0.250</td>\n",
       "      <td>1</td>\n",
       "      <td>-0.750</td>\n",
       "    </tr>\n",
       "    <tr>\n",
       "      <th>4</th>\n",
       "      <td>370614351_98b8a166b9.jpg</td>\n",
       "      <td>3286822339_5535af6b93.jpg#2</td>\n",
       "      <td>chinese market street in the winter time .</td>\n",
       "      <td>False</td>\n",
       "      <td>1</td>\n",
       "      <td>1</td>\n",
       "      <td>1</td>\n",
       "      <td>0.250</td>\n",
       "      <td>1</td>\n",
       "      <td>-0.750</td>\n",
       "    </tr>\n",
       "  </tbody>\n",
       "</table>\n",
       "</div>"
      ],
      "text/plain": [
       "                       image                     query_id  \\\n",
       "0   488590040_35a3e96c89.jpg  3181701312_70a379ab6e.jpg#2   \n",
       "1  3251976937_20625dc2b8.jpg  3207358897_bfa61fa3c6.jpg#2   \n",
       "2  1962729184_6996e128e7.jpg  3286822339_5535af6b93.jpg#2   \n",
       "3  3100251515_c68027cc22.jpg  3286822339_5535af6b93.jpg#2   \n",
       "4   370614351_98b8a166b9.jpg  3286822339_5535af6b93.jpg#2   \n",
       "\n",
       "                                          query_text  disclaim  ex_1  ex_2  \\\n",
       "0    a man sleeps under a blanket on a city street .     False     1     2   \n",
       "1  a woman plays with long red ribbons in an empt...     False     1     1   \n",
       "2         chinese market street in the winter time .     False     1     2   \n",
       "3         chinese market street in the winter time .     False     1     1   \n",
       "4         chinese market street in the winter time .     False     1     1   \n",
       "\n",
       "   ex_3  ex_max  ex_min   deff  \n",
       "0     2   0.420       1 -0.580  \n",
       "1     1   0.250       1 -0.750  \n",
       "2     3   0.500       1 -0.500  \n",
       "3     1   0.250       1 -0.750  \n",
       "4     1   0.250       1 -0.750  "
      ]
     },
     "metadata": {},
     "output_type": "display_data"
    }
   ],
   "source": [
    "df_final['ex_max'] = round(df_final[['ex_1','ex_2','ex_3']].mean(axis=1)/4,2)\n",
    "df_final['ex_min'] = df_final[['ex_1','ex_2','ex_3']].min(axis=1)\n",
    "df_final['deff'] = df_final['ex_max'] -  df_final['ex_min']\n",
    "display(df_final[df_final['deff']>=3])\n",
    "display(df_final.head())\n",
    "\n"
   ]
  },
  {
   "cell_type": "code",
   "execution_count": 14,
   "id": "3625e7f8-8c5c-44f9-b175-99b7c6348e74",
   "metadata": {},
   "outputs": [
    {
     "data": {
      "text/html": [
       "<div>\n",
       "<style scoped>\n",
       "    .dataframe tbody tr th:only-of-type {\n",
       "        vertical-align: middle;\n",
       "    }\n",
       "\n",
       "    .dataframe tbody tr th {\n",
       "        vertical-align: top;\n",
       "    }\n",
       "\n",
       "    .dataframe thead th {\n",
       "        text-align: right;\n",
       "    }\n",
       "</style>\n",
       "<table border=\"1\" class=\"dataframe\">\n",
       "  <thead>\n",
       "    <tr style=\"text-align: right;\">\n",
       "      <th></th>\n",
       "      <th>image</th>\n",
       "      <th>query_id</th>\n",
       "      <th>query_text</th>\n",
       "      <th>tag</th>\n",
       "      <th>lemm_text</th>\n",
       "    </tr>\n",
       "  </thead>\n",
       "  <tbody>\n",
       "    <tr>\n",
       "      <th>0</th>\n",
       "      <td>488590040_35a3e96c89.jpg</td>\n",
       "      <td>3181701312_70a379ab6e.jpg#2</td>\n",
       "      <td>a man sleeps under a blanket on a city street .</td>\n",
       "      <td>0.420</td>\n",
       "      <td>man sleep blanket city street</td>\n",
       "    </tr>\n",
       "    <tr>\n",
       "      <th>1</th>\n",
       "      <td>3251976937_20625dc2b8.jpg</td>\n",
       "      <td>3207358897_bfa61fa3c6.jpg#2</td>\n",
       "      <td>a woman plays with long red ribbons in an empt...</td>\n",
       "      <td>0.250</td>\n",
       "      <td>woman play long red ribbon square</td>\n",
       "    </tr>\n",
       "    <tr>\n",
       "      <th>2</th>\n",
       "      <td>1962729184_6996e128e7.jpg</td>\n",
       "      <td>3286822339_5535af6b93.jpg#2</td>\n",
       "      <td>chinese market street in the winter time .</td>\n",
       "      <td>0.500</td>\n",
       "      <td>chinese market street winter time</td>\n",
       "    </tr>\n",
       "    <tr>\n",
       "      <th>3</th>\n",
       "      <td>3100251515_c68027cc22.jpg</td>\n",
       "      <td>3286822339_5535af6b93.jpg#2</td>\n",
       "      <td>chinese market street in the winter time .</td>\n",
       "      <td>0.250</td>\n",
       "      <td>chinese market street winter time</td>\n",
       "    </tr>\n",
       "    <tr>\n",
       "      <th>4</th>\n",
       "      <td>370614351_98b8a166b9.jpg</td>\n",
       "      <td>3286822339_5535af6b93.jpg#2</td>\n",
       "      <td>chinese market street in the winter time .</td>\n",
       "      <td>0.250</td>\n",
       "      <td>chinese market street winter time</td>\n",
       "    </tr>\n",
       "  </tbody>\n",
       "</table>\n",
       "</div>"
      ],
      "text/plain": [
       "                       image                     query_id  \\\n",
       "0   488590040_35a3e96c89.jpg  3181701312_70a379ab6e.jpg#2   \n",
       "1  3251976937_20625dc2b8.jpg  3207358897_bfa61fa3c6.jpg#2   \n",
       "2  1962729184_6996e128e7.jpg  3286822339_5535af6b93.jpg#2   \n",
       "3  3100251515_c68027cc22.jpg  3286822339_5535af6b93.jpg#2   \n",
       "4   370614351_98b8a166b9.jpg  3286822339_5535af6b93.jpg#2   \n",
       "\n",
       "                                          query_text   tag  \\\n",
       "0    a man sleeps under a blanket on a city street . 0.420   \n",
       "1  a woman plays with long red ribbons in an empt... 0.250   \n",
       "2         chinese market street in the winter time . 0.500   \n",
       "3         chinese market street in the winter time . 0.250   \n",
       "4         chinese market street in the winter time . 0.250   \n",
       "\n",
       "                           lemm_text  \n",
       "0      man sleep blanket city street  \n",
       "1  woman play long red ribbon square  \n",
       "2  chinese market street winter time  \n",
       "3  chinese market street winter time  \n",
       "4  chinese market street winter time  "
      ]
     },
     "metadata": {},
     "output_type": "display_data"
    },
    {
     "data": {
      "text/plain": [
       "image         269\n",
       "query_id      548\n",
       "query_text    548\n",
       "tag            10\n",
       "lemm_text     548\n",
       "dtype: int64"
      ]
     },
     "metadata": {},
     "output_type": "display_data"
    }
   ],
   "source": [
    "jit(target_backend = 'cuda') \n",
    "njit(parallel=True)\n",
    "nlp = spacy.load ('en_core_web_sm')\n",
    "stop_word_add_spa = {'www','jpg','hi','utc','etc','yum'}\n",
    "nlp.Defaults.stop_words |= stop_word_add_spa\n",
    "stopwords = nlp.Defaults.stop_words #|= stop_word_add_spa # nltk.corpus.stopwords.words('english')\n",
    "\n",
    "df_final['tag'] = df_final['ex_max']#.apply(lambda x: 1 if x>=3 else 0)\n",
    "df_final = df_final.drop(['ex_1','ex_2','ex_3','ex_max','ex_min','deff','disclaim'],axis=1).copy()\n",
    "df_final['lemm_text'] =  df_final['query_text'].apply(lambda x: lem_spa(x))\n",
    "display(df_final.head())\n",
    "display(df_final.nunique())"
   ]
  },
  {
   "cell_type": "code",
   "execution_count": 15,
   "id": "91ee07a7-157a-43e9-8c9c-af152572c303",
   "metadata": {},
   "outputs": [
    {
     "data": {
      "text/plain": [
       "tag\n",
       "0.250    455\n",
       "0.500    191\n",
       "0.330    184\n",
       "0.420    160\n",
       "0.750    104\n",
       "0.580     98\n",
       "1.000     92\n",
       "0.670     65\n",
       "0.830     26\n",
       "0.920     25\n",
       "Name: count, dtype: int64"
      ]
     },
     "metadata": {},
     "output_type": "display_data"
    },
    {
     "data": {
      "image/png": "[encoded data removed]",
      "text/plain": [
       "<Figure size 640x480 with 1 Axes>"
      ]
     },
     "metadata": {},
     "output_type": "display_data"
    }
   ],
   "source": [
    "display(df_final['tag'].value_counts())\n",
    "sns.countplot(y='tag',data=df_final,stat='percent')\n",
    "plt.show()         "
   ]
  },
  {
   "cell_type": "code",
   "execution_count": 16,
   "id": "391dffc5-f4cc-4ccb-9edb-a48abc3fa6bf",
   "metadata": {},
   "outputs": [
    {
     "data": {
      "text/plain": [
       "[('dog', 554),\n",
       " ('man', 320),\n",
       " ('white', 229),\n",
       " ('run', 188),\n",
       " ('black', 177),\n",
       " ('woman', 129),\n",
       " ('jump', 115),\n",
       " ('people', 108),\n",
       " ('stand', 105),\n",
       " ('water', 100),\n",
       " ('brown', 97),\n",
       " ('snow', 91),\n",
       " ('walk', 83),\n",
       " ('wear', 82),\n",
       " ('red', 81)]"
      ]
     },
     "metadata": {},
     "output_type": "display_data"
    },
    {
     "data": {
      "text/plain": [
       "<Axes: xlabel='Samples', ylabel='Counts'>"
      ]
     },
     "execution_count": 16,
     "metadata": {},
     "output_type": "execute_result"
    },
    {
     "data": {
      "image/png": "[encoded data removed]",
      "text/plain": [
       "<Figure size 640x480 with 1 Axes>"
      ]
     },
     "metadata": {},
     "output_type": "display_data"
    }
   ],
   "source": [
    "#df_final['tokezied_text'] = df_final['lemm_text'].apply(lambda x: simple_preprocess(x))\n",
    "dd_t = df_final['lemm_text'].apply(lambda x: simple_preprocess(x))\n",
    "#df_final['tokezied_text'][df_final['tag']==1]\n",
    "\n",
    "jit(target_backend='cuda') \n",
    "njit(parallel=True)\n",
    "de_t=dd_t.sum() \n",
    "\n",
    "fdist = FreqDist(de_t)\n",
    "display(fdist.most_common(15))\n",
    "fdist.plot(30,cumulative=False)"
   ]
  },
  {
   "cell_type": "code",
   "execution_count": 17,
   "id": "b7ac310e-6a33-4d9a-8979-1ffa758aae6d",
   "metadata": {},
   "outputs": [
    {
     "data": {
      "image/png": "[encoded data removed]",
      "text/plain": [
       "<Figure size 700x700 with 1 Axes>"
      ]
     },
     "metadata": {},
     "output_type": "display_data"
    }
   ],
   "source": [
    "from wordcloud import WordCloud\n",
    "#import matplotlib.font_manager as fm \n",
    "#font_list=fm.findSystemFonts() for font in font_list: print(font)\n",
    "\n",
    "%matplotlib inline\n",
    "jit(target_backend='cuda') \n",
    "njit(parallel=True)\n",
    "\n",
    "text_raw = \" \".join(de_t)\n",
    "wordCloud = WordCloud(width = 10000,\n",
    "                      height = 10000,\n",
    "                      random_state=1,\n",
    "                      background_color='black',\n",
    "                      #colormap='Set2',\n",
    "                      collocations=False).generate(text_raw)\n",
    "\n",
    "plt.figure(figsize=(7,7))\n",
    "plt.imshow(wordCloud)\n",
    "plt.show()"
   ]
  },
  {
   "cell_type": "markdown",
   "id": "196fdd76-01a4-4698-9e5a-c9e12299627e",
   "metadata": {
    "jp-MarkdownHeadingCollapsed": true
   },
   "source": [
    "### Выводы анализа данных и проверки\n",
    "в ходе предподготовки данных было выявленно следующее:\n",
    " - после \"отчистки\" данных от stop слов , связанных с детьми - осталось 1400 записей.\n",
    " - в фаилах оценки от крауда присутствуют query_id (23 элемента) для которых нет текстового описания в фаиле Train\n",
    " - пары \"query_id\" и \"image\" в фаиле от крауда не совпадают ни с экспертными данными, ни с фаилом train / Скорее всего это системная ошибка : либо при постановке задачи, либо при при записи результата. Даные не являются полными, поэтому данными из этого фаила решено не использовать\n",
    " - при разметке целевой переменной принято решение, что оценку принять средней и нормализировать относительно максимума (4)\n",
    " - на оставшихся картинках среди \"правильно размеченных\" больше всего \"белых мужчин с собакой бугущих к черной женщине, а люди прыгают, стоя в воде, и идет коричневый снег..\" :)- наиболее чаще всего встречающиеся слова в описании \n",
    " - для уменьшения вычислительной нагрузки принято решение векторизировать уникальные значения после лемманизации\n"
   ]
  },
  {
   "cell_type": "markdown",
   "id": "727cff13-4d1d-4f84-8f02-bf57842ee0a4",
   "metadata": {},
   "source": [
    "## Разделение на train и test"
   ]
  },
  {
   "cell_type": "code",
   "execution_count": 18,
   "id": "a723a8ad",
   "metadata": {
    "cellId": "v1ntb27jt4z9fazi1y8me",
    "id": "a723a8ad"
   },
   "outputs": [],
   "source": [
    "from sklearn.model_selection import GroupShuffleSplit\n",
    "gss = GroupShuffleSplit(n_splits=1, train_size=.7, random_state=RANDOM_STATE)\n",
    "train_indices, test_indices = next(gss.split(X=df_final.drop(columns=['tag','image','query_id','query_text']), \n",
    "                                             y=df_final['tag'], groups=df_final['image']))\n",
    "train_df, test_df = df_final.loc[train_indices], df_final.loc[test_indices]\n"
   ]
  },
  {
   "cell_type": "code",
   "execution_count": 19,
   "id": "e8d818fc-fc42-4c4d-95a4-50eba9830856",
   "metadata": {},
   "outputs": [
    {
     "name": "stdout",
     "output_type": "stream",
     "text": [
      "<class 'pandas.core.frame.DataFrame'>\n",
      "Index: 979 entries, 0 to 1399\n",
      "Data columns (total 2 columns):\n",
      " #   Column     Non-Null Count  Dtype \n",
      "---  ------     --------------  ----- \n",
      " 0   image      979 non-null    object\n",
      " 1   lemm_text  979 non-null    object\n",
      "dtypes: object(2)\n",
      "memory usage: 22.9+ KB\n",
      "<class 'pandas.core.frame.DataFrame'>\n",
      "Index: 421 entries, 4 to 1397\n",
      "Data columns (total 2 columns):\n",
      " #   Column     Non-Null Count  Dtype \n",
      "---  ------     --------------  ----- \n",
      " 0   image      421 non-null    object\n",
      " 1   lemm_text  421 non-null    object\n",
      "dtypes: object(2)\n",
      "memory usage: 9.9+ KB\n"
     ]
    }
   ],
   "source": [
    "y_train = train_df['tag']\n",
    "y_test = test_df['tag']\n",
    "X_train = train_df.drop(['tag','query_id','query_text'],axis=1) #'tokezied_text',\n",
    "X_test = test_df.drop(['tag','query_id','query_text'],axis=1)\n",
    "\n",
    "X_train.info()\n",
    "X_test.info()"
   ]
  },
  {
   "cell_type": "code",
   "execution_count": 20,
   "id": "93ca3a3c-fed0-47f7-8569-6a56c281bdd5",
   "metadata": {},
   "outputs": [],
   "source": [
    "y_train = train_df['tag']\n",
    "y_test = test_df['tag']"
   ]
  },
  {
   "cell_type": "markdown",
   "id": "1d4ef807",
   "metadata": {
    "cellId": "ggxcvhmhcm9rshysbjoo4n",
    "execution_id": "d7935f99-48c0-42b8-a227-dd2b2d9b70fc",
    "id": "1d4ef807"
   },
   "source": [
    "## Векторизация изображений\n",
    "\n",
    "Перейдём к векторизации изображений.\n",
    "\n",
    "Самый примитивный способ — прочесть изображение и превратить полученную матрицу в вектор. Такой способ нам не подходит: длина векторов может быть сильно разной, так как размеры изображений разные. Поэтому стоит обратиться к свёрточным сетям: они позволяют \"выделить\" главные компоненты изображений. Как это сделать? Нужно выбрать какую-либо архитектуру, например ResNet-18, посмотреть на слои и исключить полносвязные слои, которые отвечают за конечное предсказание. При этом можно загрузить модель данной архитектуры, предварительно натренированную на датасете ImageNet."
   ]
  },
  {
   "cell_type": "markdown",
   "id": "658734f0-1076-44aa-af5f-7112f4f2719f",
   "metadata": {},
   "source": [
    "<div class=\"alert alert-info\"> <b>Комментарии студентаV1:</b> Н. ..</div>"
   ]
  },
  {
   "cell_type": "code",
   "execution_count": null,
   "id": "4ab9a721-9719-4c99-bda3-465fc941c64a",
   "metadata": {},
   "outputs": [],
   "source": []
  },
  {
   "cell_type": "code",
   "execution_count": 21,
   "id": "8a42288b-6509-4b7b-b61e-e46dec044638",
   "metadata": {},
   "outputs": [],
   "source": [
    "model50 = tf.keras.applications.resnet50.ResNet50(pooling='avg')\n",
    "def classify(img_path):\n",
    "\n",
    "    img = image.load_img(img_path, target_size=(224, 224))\n",
    "    img_array = image.img_to_array(img)\n",
    "    img_batch = np.expand_dims(img_array, axis=0)\n",
    "    img_preprocessed = preprocess_input(img_batch)\n",
    "    \n",
    "    prediction = model50.predict(img_preprocessed,verbose=0)\n",
    "    \n",
    "\n",
    "    #print(decode_predictions(prediction, top=3)[0])\n",
    "    return(prediction.flatten())\n"
   ]
  },
  {
   "cell_type": "code",
   "execution_count": 22,
   "id": "fd814c4a-adb1-4b0c-9ece-89d0d1c72ca3",
   "metadata": {},
   "outputs": [],
   "source": [
    "def vec_img2(X_df,path,zp):\n",
    "    df_im = pd.DataFrame()\n",
    "    count = 0\n",
    "    \n",
    "    for im in X_df :\n",
    "        jit(target_backend='cuda') \n",
    "        njit(parallel = True)\n",
    "        if zp == 1 : \n",
    "            with urlopen(url) as response, open(file_name, 'wb') as out_file:\n",
    "                shutil.copyfileobj(response, out_file)\n",
    "                \n",
    "             # extracting required file from zipfile\n",
    "            with zipfile.ZipFile(file_name) as zf:\n",
    "                zf.extract(path+im)\n",
    "                \n",
    "        #img = Image.open(path_train+im).convert('RGB')\n",
    "        df_im[count] = [im,classify(path+im)] \n",
    "        count+=1\n",
    "                \n",
    "    df_im1 = df_im.T.copy()\n",
    "    df_im1 = df_im1.rename(columns={0:'image',1:'img_vec'})\n",
    "    df_im_s = coo_matrix(np.array ( [x for x in df_im1['img_vec']]))\n",
    "    return (df_im_s)"
   ]
  },
  {
   "cell_type": "code",
   "execution_count": 23,
   "id": "bc839cf8-5242-4b75-a5ad-597bf2b8aff4",
   "metadata": {
    "scrolled": true
   },
   "outputs": [],
   "source": [
    "path_train = 'to_upload/train_images/'\n",
    "X_train_c_img = vec_img2(X_train['image'],path_train,zipfile)\n",
    "X_test_c_img = vec_img2(X_test['image'],path_train,zipfile )\n"
   ]
  },
  {
   "cell_type": "code",
   "execution_count": 24,
   "id": "b2b001cd-1b44-44cc-921f-fcae89de0b63",
   "metadata": {},
   "outputs": [
    {
     "data": {
      "text/plain": [
       "<COOrdinate sparse matrix of dtype 'float32'\n",
       "\twith 979000 stored elements and shape (979, 1000)>"
      ]
     },
     "metadata": {},
     "output_type": "display_data"
    },
    {
     "data": {
      "text/plain": [
       "<COOrdinate sparse matrix of dtype 'float32'\n",
       "\twith 421000 stored elements and shape (421, 1000)>"
      ]
     },
     "metadata": {},
     "output_type": "display_data"
    }
   ],
   "source": [
    "display(X_train_c_img , X_test_c_img)"
   ]
  },
  {
   "cell_type": "code",
   "execution_count": null,
   "id": "553e5c20-9415-47a8-bc26-1770b7ab0dc5",
   "metadata": {},
   "outputs": [],
   "source": []
  },
  {
   "cell_type": "markdown",
   "id": "aea53bf6",
   "metadata": {
    "cellId": "z8evfugfch8wpstvnxv0t",
    "execution_id": "028ade1d-49fe-4110-8b13-3c1aecdaa142",
    "id": "aea53bf6"
   },
   "source": [
    "## Векторизация текстов\n",
    "\n",
    "Следующий этап — векторизация текстов. Вы можете поэкспериментировать с несколькими способами векторизации текстов:\n",
    "\n",
    "- tf-idf\n",
    "- word2vec\n",
    "- \\*трансформеры (например Bert)\n",
    "\n",
    "\\* — если вы изучали трансформеры в спринте Машинное обучение для текстов.\n"
   ]
  },
  {
   "cell_type": "markdown",
   "id": "8736f85e-e5a3-4a3d-b921-a646f2f573aa",
   "metadata": {},
   "source": [
    "### Векторизация Wordto vec"
   ]
  },
  {
   "cell_type": "code",
   "execution_count": 25,
   "id": "751e35e1-7301-4b14-ad43-1672e35bf8a1",
   "metadata": {},
   "outputs": [],
   "source": [
    "vector_size = 1000\n",
    "#векторихация WordToVec \n",
    "physical_devices = tf.config.list_physical_devices('GPU')\n",
    "jit(target_backend='cuda') \n",
    "njit(parallel=True)\n",
    "\n",
    "# немного \"обманем\" модель \n",
    "sentences = [sentence.split() for sentence in df_final['lemm_text']] #X_train['lemm_text']]\n",
    "w2v_model = Word2Vec(sentences, vector_size=vector_size, window=3, min_count=6, workers=cores-1)# \n",
    "\n",
    "#Building the Vocabulary Table\n",
    "w2v_model.build_vocab(sentences)\n",
    "\n",
    "#train mpdel W2w\n",
    "w2v_model.train(sentences, total_examples=w2v_model.corpus_count, epochs=30)\n",
    "\n",
    "def vectorize(sentence):\n",
    "    words = sentence.split()\n",
    "    words_vecs = [w2v_model.wv[word] for word in words if word in w2v_model.wv]\n",
    "    if len(words_vecs) == 0:\n",
    "        return np.zeros(vector_size)\n",
    "    words_vecs = np.array(words_vecs)#\n",
    "    return words_vecs.mean(axis=0)\n",
    "    \n",
    "def word_coo_add (X_c):\n",
    "    X_w_s = coo_matrix(np.array ([(vectorize(sentence)) for sentence in X_c['lemm_text']]))\n",
    "    return X_w_s\n",
    "\n"
   ]
  },
  {
   "cell_type": "code",
   "execution_count": 26,
   "id": "dd067287-ac3c-4c26-97a5-4377ab7bb93b",
   "metadata": {},
   "outputs": [],
   "source": [
    "X_train_ww_s = word_coo_add(X_train).copy()\n",
    "X_test_ww_s = word_coo_add(X_test).copy()"
   ]
  },
  {
   "cell_type": "code",
   "execution_count": 27,
   "id": "f7fc7762-c431-4ed4-b470-e065c91b0f03",
   "metadata": {},
   "outputs": [
    {
     "data": {
      "text/plain": [
       "<COOrdinate sparse matrix of dtype 'float64'\n",
       "\twith 975000 stored elements and shape (979, 1000)>"
      ]
     },
     "metadata": {},
     "output_type": "display_data"
    },
    {
     "data": {
      "text/plain": [
       "<COOrdinate sparse matrix of dtype 'float64'\n",
       "\twith 420000 stored elements and shape (421, 1000)>"
      ]
     },
     "metadata": {},
     "output_type": "display_data"
    }
   ],
   "source": [
    "display(X_train_ww_s ,X_test_ww_s)"
   ]
  },
  {
   "cell_type": "markdown",
   "id": "febd3758-fd2f-438c-b48e-6b945ec5ed3f",
   "metadata": {},
   "source": [
    "### векторизация TfidfVectorizer"
   ]
  },
  {
   "cell_type": "code",
   "execution_count": 28,
   "id": "c4897ea0-c11f-4e26-9c94-363de85f94ce",
   "metadata": {},
   "outputs": [],
   "source": [
    "jit(target_backend='cuda') \n",
    "njit(parallel = True)\n",
    "physical_devices = tf.config.list_physical_devices('GPU')\n",
    "count_tf_idf = TfidfVectorizer(ngram_range=(1, 5),max_features=vector_size,stop_words= 'english') #ngram_range=(2, 2),\n",
    "tf_idf_X_train = count_tf_idf.fit_transform(X_train['lemm_text'])\n",
    "tf_idf_X_test = count_tf_idf.transform(X_test['lemm_text'])\n"
   ]
  },
  {
   "cell_type": "code",
   "execution_count": 29,
   "id": "3ecf73c1-68f4-4574-9acd-ef3fd3c428d6",
   "metadata": {},
   "outputs": [
    {
     "data": {
      "text/plain": [
       "<Compressed Sparse Row sparse matrix of dtype 'float64'\n",
       "\twith 8899 stored elements and shape (979, 1000)>"
      ]
     },
     "metadata": {},
     "output_type": "display_data"
    },
    {
     "data": {
      "text/plain": [
       "<Compressed Sparse Row sparse matrix of dtype 'float64'\n",
       "\twith 3019 stored elements and shape (421, 1000)>"
      ]
     },
     "metadata": {},
     "output_type": "display_data"
    }
   ],
   "source": [
    "display(tf_idf_X_train,tf_idf_X_test) "
   ]
  },
  {
   "cell_type": "markdown",
   "id": "6f798c70-beaa-464f-a9ab-b96cc5a1899f",
   "metadata": {
    "cellId": "5f0eae9yldcozrwh01qp0c",
    "id": "cd7584bd"
   },
   "source": [
    "### векторизация с помощью модели BERT"
   ]
  },
  {
   "cell_type": "code",
   "execution_count": 35,
   "id": "655946c9-bb5d-4f06-885f-596bc6c7050c",
   "metadata": {},
   "outputs": [],
   "source": [
    "jit(target_backend='cuda') \n",
    "njit(parallel = True)\n",
    "max_len = vector_size\n",
    "model_class, tokenizer_class, pretrained_weights = (transformers.DistilBertModel, #transformers.DistilBertModel,AutoTokenizer,AutoModel\n",
    "                                                    transformers.DistilBertTokenizer, 'distilbert-base-uncased') #transformers.DistilBertTokenizer google-bert/bert-large-uncased\n",
    "\n",
    "## Хотите BERT вместо distilBERT? Раскомментируйте следующую строку:\n",
    "#model_class, tokenizer_class, pretrained_weights = (ppb.BertModel, ppb.BertTokenizer, 'bert-base-uncased')\n",
    "\n",
    "# Загрузка предобученной модели/токенизатора \n",
    "tokenizer = tokenizer_class.from_pretrained(pretrained_weights)\n",
    "model_bert = model_class.from_pretrained(pretrained_weights)\n",
    "\n",
    "#tokenizer = BertTokenizer.from_pretrained('bert-base-uncased',vocab_file='vocab.txt')#transformers.BertTokenizer()\n",
    "tokenized_train = X_train['lemm_text'].apply(lambda x: tokenizer.encode(x,truncation=True,padding=True,\n",
    "                                                                        max_length=max_len,\n",
    "                                                                        add_special_tokens=True,))\n",
    "                                                                        #return_tensors='tf' ))\n",
    "tokenized_test = X_test['lemm_text'].apply(lambda x: tokenizer.encode(x,truncation=True,padding=True,\n",
    "                                                                      max_length=max_len,\n",
    "                                                                      add_special_tokens=True,))\n",
    "                                                                      #return_tensors='tf' ))"
   ]
  },
  {
   "cell_type": "code",
   "execution_count": 36,
   "id": "d44a33e8-9abe-422d-b25b-253bd70f6037",
   "metadata": {},
   "outputs": [],
   "source": [
    "# создаем векторы одинаковой длинны и массив mask\n",
    "\n",
    "#jit(target_backend='cuda') \n",
    "njit(parallel=True)\n",
    "def pad_att (tokenized):\n",
    "    physical_devices = tf.config.list_physical_devices('GPU')\n",
    "    max_len = 0\n",
    "    for i in tokenized.values:\n",
    "        if len(i) > max_len:\n",
    "            max_len = len(i)\n",
    "    padded = np.array([i + [0]*(max_len - len(i)) for i in tokenized.values])\n",
    "    attention_mask = np.where(padded != 0, 1, 0)\n",
    "    return (padded,attention_mask)    \n",
    "\n",
    "padded_train,attention_mask_train  = pad_att(tokenized_train)\n",
    "padded_test,attention_mask_test  = pad_att(tokenized_test)"
   ]
  },
  {
   "cell_type": "code",
   "execution_count": 37,
   "id": "61cc0d93-7476-4d3a-8b25-baf3c97a90fb",
   "metadata": {},
   "outputs": [
    {
     "data": {
      "text/plain": [
       "979"
      ]
     },
     "metadata": {},
     "output_type": "display_data"
    },
    {
     "data": {
      "text/plain": [
       "979"
      ]
     },
     "metadata": {},
     "output_type": "display_data"
    },
    {
     "data": {
      "text/plain": [
       "19"
      ]
     },
     "metadata": {},
     "output_type": "display_data"
    },
    {
     "data": {
      "text/plain": [
       "979"
      ]
     },
     "metadata": {},
     "output_type": "display_data"
    }
   ],
   "source": [
    "display(len(padded_train),len(attention_mask_train))\n",
    "display(len(padded_train[1]))\n",
    "display(padded_train.shape[0])\n"
   ]
  },
  {
   "cell_type": "code",
   "execution_count": 38,
   "id": "8fdbbc96-49b0-410f-bb41-bff0ccb27087",
   "metadata": {},
   "outputs": [],
   "source": [
    "#содание финальных эмбендингов\n",
    "\n",
    "def bat_x (padded,attention_mask):\n",
    "    physical_devices = tf.config.list_physical_devices('GPU')\n",
    "    #model_bert.to(device)\n",
    "    #token_ids = torch.tensor(padded_train).to(device)\n",
    "    #attentionMask = torch.tensor(attention_mask_train).to(device)    \n",
    "    jit(target_backend='cuda') \n",
    "    njit(parallel=True)\n",
    "    \n",
    "    batch_size = 32\n",
    "    embeddings = []\n",
    "    \n",
    "    for i in  notebook.tqdm(range(padded.shape[0] // batch_size)):\n",
    "        \n",
    "        batch = torch.LongTensor(padded[batch_size*i:batch_size*(i+1)]) \n",
    "        attention_mask_batch = torch.LongTensor(attention_mask[batch_size*i:batch_size*(i+1)])\n",
    "        \n",
    "        with torch.no_grad():\n",
    "            batch_embeddings = model_bert(batch, attention_mask=attention_mask_batch)\n",
    "        embeddings.append(batch_embeddings[0][:,0,:].numpy())\n",
    "    ost = padded.shape[0] % batch_size    \n",
    "    if ost !=0 :\n",
    "        batch = torch.LongTensor(padded[padded.shape[0] - ost:padded.shape[0]]) \n",
    "        attention_mask_batch = torch.LongTensor(attention_mask[padded.shape[0] - ost:padded.shape[0]])\n",
    "        \n",
    "        with torch.no_grad():\n",
    "            batch_embeddings = model_bert(batch, attention_mask=attention_mask_batch)\n",
    "        embeddings.append(batch_embeddings[0][:,0,:].numpy())\n",
    "        \n",
    "    features = np.concatenate(embeddings)    \n",
    "    return (features)"
   ]
  },
  {
   "cell_type": "code",
   "execution_count": 39,
   "id": "7c2e5f63-00db-48c6-a30e-8f8242cbe58e",
   "metadata": {},
   "outputs": [
    {
     "data": {
      "application/vnd.jupyter.widget-view+json": {
       "model_id": "e3883249abd94169b973e840751c6419",
       "version_major": 2,
       "version_minor": 0
      },
      "text/plain": [
       "  0%|          | 0/30 [00:00<?, ?it/s]"
      ]
     },
     "metadata": {},
     "output_type": "display_data"
    },
    {
     "data": {
      "application/vnd.jupyter.widget-view+json": {
       "model_id": "0b4379a959f44660a513d2cd78390249",
       "version_major": 2,
       "version_minor": 0
      },
      "text/plain": [
       "  0%|          | 0/13 [00:00<?, ?it/s]"
      ]
     },
     "metadata": {},
     "output_type": "display_data"
    }
   ],
   "source": [
    "jit(target_backend='cuda') \n",
    "njit(parallel=True)\n",
    "physical_devices = tf.config.list_physical_devices('GPU')\n",
    "\n",
    "padded_train,attention_mask_train  = pad_att(tokenized_train)\n",
    "padded_test,attention_mask_test  = pad_att(tokenized_test)\n",
    "\n",
    "X_train_bertv = bat_x(padded_train,attention_mask_train)\n",
    "X_test_bertv = bat_x(padded_test,attention_mask_test)\n",
    "#display(padded_test.shape[1])"
   ]
  },
  {
   "cell_type": "code",
   "execution_count": 40,
   "id": "d247ea2e-99f7-4723-982e-7fe66b3e41e6",
   "metadata": {},
   "outputs": [
    {
     "data": {
      "text/plain": [
       "-8.315544"
      ]
     },
     "metadata": {},
     "output_type": "display_data"
    },
    {
     "data": {
      "text/plain": [
       "3.745574"
      ]
     },
     "metadata": {},
     "output_type": "display_data"
    }
   ],
   "source": [
    "display(X_train_bertv.min())\n",
    "display(X_train_bertv.max())\n",
    "#X_train_bertv"
   ]
  },
  {
   "cell_type": "code",
   "execution_count": 49,
   "id": "81b3ef56-c077-4f3e-8490-055be34fa72c",
   "metadata": {},
   "outputs": [
    {
     "data": {
      "text/plain": [
       "0.0"
      ]
     },
     "metadata": {},
     "output_type": "display_data"
    },
    {
     "data": {
      "text/plain": [
       "1.0000001"
      ]
     },
     "metadata": {},
     "output_type": "display_data"
    }
   ],
   "source": [
    "scaler = MinMaxScaler()\n",
    "bert_st_train = scaler.fit_transform(X_train_bertv)\n",
    "bert_st_test = scaler.transform(X_test_bertv)\n",
    "display(bert_st.min())\n",
    "display(bert_st.max())"
   ]
  },
  {
   "cell_type": "code",
   "execution_count": 50,
   "id": "5a3cf505-e3b1-4251-b412-95f503fd25f9",
   "metadata": {},
   "outputs": [],
   "source": [
    "X_train_bertc = coo_matrix(bert_st_train) \n",
    "X_test_bertc = coo_matrix(bert_st_test)"
   ]
  },
  {
   "cell_type": "code",
   "execution_count": 51,
   "id": "b19f3339-1634-4ae1-91ac-8ac4c059fa63",
   "metadata": {},
   "outputs": [
    {
     "data": {
      "text/plain": [
       "<COOrdinate sparse matrix of dtype 'float32'\n",
       "\twith 750472 stored elements and shape (979, 768)>"
      ]
     },
     "metadata": {},
     "output_type": "display_data"
    },
    {
     "data": {
      "text/plain": [
       "<COOrdinate sparse matrix of dtype 'float32'\n",
       "\twith 323107 stored elements and shape (421, 768)>"
      ]
     },
     "metadata": {},
     "output_type": "display_data"
    }
   ],
   "source": [
    "display(X_train_bertc,X_test_bertc)"
   ]
  },
  {
   "cell_type": "markdown",
   "id": "9a9fb1a6-61f2-4d85-926b-1fda4018d95f",
   "metadata": {},
   "source": [
    "### Оценка размерности векторов\n",
    " - размерность вектора описания составляет 1000/768 (ограничена пользователем)\n",
    " - размерность вектора изображения - 1000\n",
    " - \"баланс\" классов соблюден  "
   ]
  },
  {
   "cell_type": "markdown",
   "id": "760c0ccd",
   "metadata": {
    "cellId": "yci1zcmnsacl720fr75sb",
    "execution_id": "5ecfa9d5-3913-4fb3-a33e-99bab3798577",
    "id": "760c0ccd"
   },
   "source": [
    "## Объединение векторов\n",
    "\n",
    "Подготовьте данные для обучения: объедините векторы изображений и векторы текстов с целевой переменной."
   ]
  },
  {
   "cell_type": "code",
   "execution_count": 52,
   "id": "b747671f",
   "metadata": {
    "cellId": "n64cmotqegij9arvbc7sxf",
    "id": "b747671f"
   },
   "outputs": [
    {
     "data": {
      "text/plain": [
       "<COOrdinate sparse matrix of dtype 'float64'\n",
       "\twith 1954000 stored elements and shape (979, 2000)>"
      ]
     },
     "metadata": {},
     "output_type": "display_data"
    },
    {
     "data": {
      "text/plain": [
       "<COOrdinate sparse matrix of dtype 'float64'\n",
       "\twith 841000 stored elements and shape (421, 2000)>"
      ]
     },
     "metadata": {},
     "output_type": "display_data"
    }
   ],
   "source": [
    "## Wtv + img\n",
    "X_train_wtv_m = hstack((X_train_c_img, X_train_ww_s)).copy()\n",
    "X_test_wtv_m = hstack((X_test_c_img, X_test_ww_s)).copy()\n",
    "\n",
    "## TF-IDF + img\n",
    "X_train_tft_m = hstack((X_train_c_img, tf_idf_X_train)).copy()\n",
    "X_test_tft_m = hstack((X_test_c_img, tf_idf_X_test)).copy()\n",
    "\n",
    "## Bert + img\n",
    "X_train_bert_m = hstack((X_train_c_img, X_train_bertc)).copy()\n",
    "X_test_bert_m = hstack((X_test_c_img, X_test_bertc)).copy()\n",
    "\n",
    "display(X_train_wtv_m,X_test_wtv_m)"
   ]
  },
  {
   "cell_type": "code",
   "execution_count": 53,
   "id": "cdc7eddc-fdcf-4955-a986-d505c80342ae",
   "metadata": {},
   "outputs": [
    {
     "data": {
      "text/plain": [
       "scipy.sparse._coo.coo_matrix"
      ]
     },
     "metadata": {},
     "output_type": "display_data"
    },
    {
     "data": {
      "text/plain": [
       "scipy.sparse._csr.csr_matrix"
      ]
     },
     "metadata": {},
     "output_type": "display_data"
    },
    {
     "data": {
      "text/plain": [
       "<COOrdinate sparse matrix of dtype 'float32'\n",
       "\twith 1729472 stored elements and shape (979, 1768)>"
      ]
     },
     "metadata": {},
     "output_type": "display_data"
    },
    {
     "data": {
      "text/plain": [
       "<COOrdinate sparse matrix of dtype 'float32'\n",
       "\twith 744107 stored elements and shape (421, 1768)>"
      ]
     },
     "metadata": {},
     "output_type": "display_data"
    },
    {
     "data": {
      "text/plain": [
       "979"
      ]
     },
     "metadata": {},
     "output_type": "display_data"
    },
    {
     "data": {
      "text/plain": [
       "421"
      ]
     },
     "metadata": {},
     "output_type": "display_data"
    }
   ],
   "source": [
    "display(type(X_train_c_img), type(tf_idf_X_train))\n",
    "display(X_train_bert_m, X_test_bert_m)\n",
    "display(len(y_train),len(y_test))"
   ]
  },
  {
   "cell_type": "markdown",
   "id": "60bc5668",
   "metadata": {
    "cellId": "97c9jj3s2zjj62vznivsk",
    "execution_id": "1a2d7233-0c79-479a-be63-5787145e3b48",
    "id": "60bc5668"
   },
   "source": [
    "## Обучение модели предсказания соответствия\n",
    "\n",
    "Для обучения разделите датасет на тренировочную и тестовую выборки. Простое случайное разбиение не подходит: нужно исключить попадание изображения и в обучающую, и в тестовую выборки.\n",
    "Для того чтобы учесть изображения при разбиении, можно воспользоваться классом [GroupShuffleSplit](https://scikit-learn.org/stable/modules/generated/sklearn.model_selection.GroupShuffleSplit.html) из библиотеки sklearn.model_selection.\n",
    "\n",
    "Код ниже разбивает датасет на тренировочную и тестовую выборки в пропорции 7:3 так, что строки с одинаковым значением 'group_column' будут содержаться либо в тестовом, либо в тренировочном датасете.\n",
    "\n",
    "```\n",
    "from sklearn.model_selection import GroupShuffleSplit\n",
    "gss = GroupShuffleSplit(n_splits=1, train_size=.7, random_state=42)\n",
    "train_indices, test_indices = next(gss.split(X=df.drop(columns=['target']), y=df['target'], groups=df['group_column']))\n",
    "train_df, test_df = df.loc[train_indices], df.loc[test_indices]\n",
    "\n",
    "```\n",
    "\n",
    "Какую модель использовать — выберите самостоятельно. Также вам предстоит выбрать метрику качества либо реализовать свою."
   ]
  },
  {
   "cell_type": "markdown",
   "id": "a95919d3-6004-437d-828c-653e2773dbd8",
   "metadata": {},
   "source": [
    "### выбор метрики\n",
    " - будет проведена кросс валидация по основным моделям регресси с учетов вариативности во разным методам веторизации запросов\n",
    " - в качестве метрики оценки моделей была выбран метрика mean_absolute_error - которая показывает, среднюю абсолютную ошибку регрессии. К тому же она устойчива к выбросам.."
   ]
  },
  {
   "cell_type": "markdown",
   "id": "87cf29cc-4335-4b94-9753-4d4106d30b4f",
   "metadata": {},
   "source": [
    "### Кроссвалидация по моделям"
   ]
  },
  {
   "cell_type": "code",
   "execution_count": 54,
   "id": "afd6fc16-6564-473d-bc5a-1c2cbaf27b89",
   "metadata": {},
   "outputs": [
    {
     "name": "stdout",
     "output_type": "stream",
     "text": [
      "================================================================================\n",
      "Ridge\n",
      "best parames :   {'models__alpha': 0.8000000000000003}\n",
      "best score :   0.15045626444791527\n",
      "================================================================================\n",
      "KNeighborsRegressor\n",
      "best parames :   {}\n",
      "best score :   0.16964568437180796\n",
      "================================================================================\n",
      "LinearRegression\n",
      "best parames :   {}\n",
      "best score :   0.07186884126614429\n",
      "================================================================================\n",
      "RandomForestRegressor\n",
      "best parames :   {}\n",
      "best score :   0.05217701736465776\n",
      "================================================================================\n",
      "SVR\n",
      "best parames :   {'models__C': 0.9}\n",
      "best score :   0.1319719686564322\n",
      "================================================================================\n",
      "SGDRegressor\n",
      "best parames :   {}\n",
      "best score :   0.18381861581644876\n",
      "================================================================================\n",
      "PassiveAggressiveRegressor\n",
      "best parames :   {}\n",
      "best score :   0.16023788210359863\n",
      "================================================================================\n",
      "CatBoostRegressor\n",
      "best parames :   {}\n",
      "best score :   0.1427904555200352\n"
     ]
    }
   ],
   "source": [
    "# кросвалидация для WyV \n",
    "physical_devices = tf.config.list_physical_devices('GPU')\n",
    "jit(target_backend='cuda') \n",
    "njit(parallel=True)\n",
    "\n",
    "results_word = cross_m(X_train_wtv_m,y_train,X_test_wtv_m,'WordVec')\n",
    "#display(results_word)"
   ]
  },
  {
   "cell_type": "code",
   "execution_count": 55,
   "id": "6d4fc048-20aa-4555-b381-9a9e4766dfbb",
   "metadata": {},
   "outputs": [
    {
     "name": "stdout",
     "output_type": "stream",
     "text": [
      "================================================================================\n",
      "Ridge\n",
      "best parames :   {'models__alpha': 0.9000000000000001}\n",
      "best score :   0.12146734689690847\n",
      "================================================================================\n",
      "KNeighborsRegressor\n",
      "best parames :   {}\n",
      "best score :   0.17029724208375893\n",
      "================================================================================\n",
      "LinearRegression\n",
      "best parames :   {}\n",
      "best score :   0.08762348607420938\n",
      "================================================================================\n",
      "RandomForestRegressor\n",
      "best parames :   {}\n",
      "best score :   0.05310858018386105\n",
      "================================================================================\n",
      "SVR\n",
      "best parames :   {'models__C': 0.1}\n",
      "best score :   0.1303351754996042\n",
      "================================================================================\n",
      "SGDRegressor\n",
      "best parames :   {}\n",
      "best score :   0.15229404790657003\n",
      "================================================================================\n",
      "PassiveAggressiveRegressor\n",
      "best parames :   {}\n",
      "best score :   0.1219018112986513\n",
      "================================================================================\n",
      "CatBoostRegressor\n",
      "best parames :   {}\n",
      "best score :   0.15066246604805628\n"
     ]
    }
   ],
   "source": [
    "# кросвалидация для TF векторизации \n",
    "jit(target_backend='cuda') \n",
    "njit(parallel=True)\n",
    "physical_devices = tf.config.list_physical_devices('GPU')\n",
    "\n",
    "results_tf = cross_m(X_train_tft_m,y_train,X_test_tft_m,'TFT' )"
   ]
  },
  {
   "cell_type": "code",
   "execution_count": 56,
   "id": "04513a11-99a7-4738-8149-d92c0023a42e",
   "metadata": {},
   "outputs": [
    {
     "name": "stdout",
     "output_type": "stream",
     "text": [
      "================================================================================\n",
      "Ridge\n",
      "best parames :   {'models__alpha': 0.9000000000000001}\n",
      "best score :   0.11106547384510489\n",
      "================================================================================\n",
      "KNeighborsRegressor\n",
      "best parames :   {}\n",
      "best score :   0.18115028089887641\n",
      "================================================================================\n",
      "LinearRegression\n",
      "best parames :   {}\n",
      "best score :   0.069989000620954\n",
      "================================================================================\n",
      "RandomForestRegressor\n",
      "best parames :   {}\n",
      "best score :   0.055737793667007096\n",
      "================================================================================\n",
      "SVR\n",
      "best parames :   {'models__C': 0.5}\n",
      "best score :   0.15088805946453113\n",
      "================================================================================\n",
      "SGDRegressor\n",
      "best parames :   {}\n",
      "best score :   0.18158463966700997\n",
      "================================================================================\n",
      "PassiveAggressiveRegressor\n",
      "best parames :   {}\n",
      "best score :   0.16083302082916337\n",
      "================================================================================\n",
      "CatBoostRegressor\n",
      "best parames :   {}\n",
      "best score :   0.14799138567645106\n"
     ]
    }
   ],
   "source": [
    "\n",
    "jit(target_backend='cuda') \n",
    "njit(parallel=True)\n",
    "\n",
    "physical_devices = tf.config.list_physical_devices('GPU')\n",
    "results_bert = cross_m(X_train_bert_m,y_train,X_test_bert_m,'BERT' )"
   ]
  },
  {
   "cell_type": "code",
   "execution_count": 57,
   "id": "1b7e2997-b036-4b98-955a-626337d088c3",
   "metadata": {
    "scrolled": true
   },
   "outputs": [
    {
     "data": {
      "text/plain": [
       "' MAE WordToVec'"
      ]
     },
     "metadata": {},
     "output_type": "display_data"
    },
    {
     "data": {
      "text/plain": [
       "[('Ridge', 0.15045626444791527, 'WordVec'),\n",
       " ('KNeighborsRegressor', 0.16964568437180796, 'WordVec'),\n",
       " ('LinearRegression', 0.07186884126614429, 'WordVec'),\n",
       " ('RandomForestRegressor', 0.05217701736465776, 'WordVec'),\n",
       " ('SVR', 0.1319719686564322, 'WordVec'),\n",
       " ('SGDRegressor', 0.18381861581644876, 'WordVec'),\n",
       " ('PassiveAggressiveRegressor', 0.16023788210359863, 'WordVec'),\n",
       " ('CatBoostRegressor', 0.1427904555200352, 'WordVec')]"
      ]
     },
     "metadata": {},
     "output_type": "display_data"
    },
    {
     "data": {
      "text/plain": [
       "' MAE TFV'"
      ]
     },
     "metadata": {},
     "output_type": "display_data"
    },
    {
     "data": {
      "text/plain": [
       "[('Ridge', 0.12146734689690847, 'TFT'),\n",
       " ('KNeighborsRegressor', 0.17029724208375893, 'TFT'),\n",
       " ('LinearRegression', 0.08762348607420938, 'TFT'),\n",
       " ('RandomForestRegressor', 0.05310858018386105, 'TFT'),\n",
       " ('SVR', 0.1303351754996042, 'TFT'),\n",
       " ('SGDRegressor', 0.15229404790657003, 'TFT'),\n",
       " ('PassiveAggressiveRegressor', 0.1219018112986513, 'TFT'),\n",
       " ('CatBoostRegressor', 0.15066246604805628, 'TFT')]"
      ]
     },
     "metadata": {},
     "output_type": "display_data"
    },
    {
     "data": {
      "text/plain": [
       "' MAE BERT'"
      ]
     },
     "metadata": {},
     "output_type": "display_data"
    },
    {
     "data": {
      "text/plain": [
       "[('Ridge', 0.11106547384510489, 'BERT'),\n",
       " ('KNeighborsRegressor', 0.18115028089887641, 'BERT'),\n",
       " ('LinearRegression', 0.069989000620954, 'BERT'),\n",
       " ('RandomForestRegressor', 0.055737793667007096, 'BERT'),\n",
       " ('SVR', 0.15088805946453113, 'BERT'),\n",
       " ('SGDRegressor', 0.18158463966700997, 'BERT'),\n",
       " ('PassiveAggressiveRegressor', 0.16083302082916337, 'BERT'),\n",
       " ('CatBoostRegressor', 0.14799138567645106, 'BERT')]"
      ]
     },
     "metadata": {},
     "output_type": "display_data"
    }
   ],
   "source": [
    "display(' MAE WordToVec' , results_word)\n",
    "display(' MAE TFV' , results_tf)\n",
    "display(' MAE BERT' , results_bert)"
   ]
  },
  {
   "cell_type": "markdown",
   "id": "b9d7648b-f724-4974-b99b-37fbbefa3430",
   "metadata": {},
   "source": [
    "' RMSE WordToVec'\n",
    "[('Ridge', 0.15045626444791527, 'WordVec'),\n",
    " ('KNeighborsRegressor', 0.16964568437180796, 'WordVec'),\n",
    " ('LinearRegression', 0.07186884099690699, 'WordVec'),\n",
    " ('RandomForestRegressor', 0.05217701736465776, 'WordVec'),\n",
    " ('SVR', 0.1319719686564322, 'WordVec'),\n",
    " ('SGDRegressor', 0.1825230088715431, 'WordVec'),\n",
    " ('PassiveAggressiveRegressor', 0.19656221346222394, 'WordVec'),\n",
    " ('CatBoostRegressor', 0.11177004803502559, 'WordVec')]\n",
    "' RMSE TFV'\n",
    "[('Ridge', 0.12146734689690847, 'TFT'),\n",
    " ('KNeighborsRegressor', 0.17029724208375893, 'TFT'),\n",
    " ('LinearRegression', 0.08762348607424594, 'TFT'),\n",
    " ('RandomForestRegressor', 0.05310858018386105, 'TFT'),\n",
    " ('SVR', 0.1303351754996042, 'TFT'),\n",
    " ('SGDRegressor', 0.15911382223860482, 'TFT'),\n",
    " ('PassiveAggressiveRegressor', 0.1223219112739696, 'TFT'),\n",
    " ('CatBoostRegressor', 0.13127179441006276, 'TFT')]\n",
    "' RMSE BERT'\n",
    "[('Ridge', 0.09632990399894967, 'BERT'),\n",
    " ('KNeighborsRegressor', 0.17691636874361594, 'BERT'),\n",
    " ('LinearRegression', 0.06847920791669325, 'BERT'),\n",
    " ('RandomForestRegressor', 0.05705168539325836, 'BERT'),\n",
    " ('SVR', 0.1484953836019704, 'BERT'),\n",
    " ('SGDRegressor', 0.15517142574935366, 'BERT'),\n",
    " ('PassiveAggressiveRegressor', 0.1431563291141507, 'BERT'),\n",
    " ('CatBoostRegressor', 0.1189147925087559, 'BERT')]"
   ]
  },
  {
   "cell_type": "code",
   "execution_count": 58,
   "id": "a13c0478-5ec8-47a3-8d41-b465d913d107",
   "metadata": {},
   "outputs": [
    {
     "data": {
      "text/html": [
       "<div>\n",
       "<style scoped>\n",
       "    .dataframe tbody tr th:only-of-type {\n",
       "        vertical-align: middle;\n",
       "    }\n",
       "\n",
       "    .dataframe tbody tr th {\n",
       "        vertical-align: top;\n",
       "    }\n",
       "\n",
       "    .dataframe thead th {\n",
       "        text-align: right;\n",
       "    }\n",
       "</style>\n",
       "<table border=\"1\" class=\"dataframe\">\n",
       "  <thead>\n",
       "    <tr style=\"text-align: right;\">\n",
       "      <th></th>\n",
       "      <th>WordVec</th>\n",
       "      <th>TFT</th>\n",
       "      <th>BERT</th>\n",
       "    </tr>\n",
       "    <tr>\n",
       "      <th>model_n</th>\n",
       "      <th></th>\n",
       "      <th></th>\n",
       "      <th></th>\n",
       "    </tr>\n",
       "  </thead>\n",
       "  <tbody>\n",
       "    <tr>\n",
       "      <th>Ridge</th>\n",
       "      <td>0.150</td>\n",
       "      <td>0.121</td>\n",
       "      <td>0.111</td>\n",
       "    </tr>\n",
       "    <tr>\n",
       "      <th>KNeighborsRegressor</th>\n",
       "      <td>0.170</td>\n",
       "      <td>0.170</td>\n",
       "      <td>0.181</td>\n",
       "    </tr>\n",
       "    <tr>\n",
       "      <th>LinearRegression</th>\n",
       "      <td>0.072</td>\n",
       "      <td>0.088</td>\n",
       "      <td>0.070</td>\n",
       "    </tr>\n",
       "    <tr>\n",
       "      <th>RandomForestRegressor</th>\n",
       "      <td>0.052</td>\n",
       "      <td>0.053</td>\n",
       "      <td>0.056</td>\n",
       "    </tr>\n",
       "    <tr>\n",
       "      <th>SVR</th>\n",
       "      <td>0.132</td>\n",
       "      <td>0.130</td>\n",
       "      <td>0.151</td>\n",
       "    </tr>\n",
       "    <tr>\n",
       "      <th>SGDRegressor</th>\n",
       "      <td>0.184</td>\n",
       "      <td>0.152</td>\n",
       "      <td>0.182</td>\n",
       "    </tr>\n",
       "    <tr>\n",
       "      <th>PassiveAggressiveRegressor</th>\n",
       "      <td>0.160</td>\n",
       "      <td>0.122</td>\n",
       "      <td>0.161</td>\n",
       "    </tr>\n",
       "    <tr>\n",
       "      <th>CatBoostRegressor</th>\n",
       "      <td>0.143</td>\n",
       "      <td>0.151</td>\n",
       "      <td>0.148</td>\n",
       "    </tr>\n",
       "  </tbody>\n",
       "</table>\n",
       "</div>"
      ],
      "text/plain": [
       "                            WordVec   TFT  BERT\n",
       "model_n                                        \n",
       "Ridge                         0.150 0.121 0.111\n",
       "KNeighborsRegressor           0.170 0.170 0.181\n",
       "LinearRegression              0.072 0.088 0.070\n",
       "RandomForestRegressor         0.052 0.053 0.056\n",
       "SVR                           0.132 0.130 0.151\n",
       "SGDRegressor                  0.184 0.152 0.182\n",
       "PassiveAggressiveRegressor    0.160 0.122 0.161\n",
       "CatBoostRegressor             0.143 0.151 0.148"
      ]
     },
     "metadata": {},
     "output_type": "display_data"
    },
    {
     "data": {
      "text/plain": [
       "<Figure size 1600x1400 with 0 Axes>"
      ]
     },
     "metadata": {},
     "output_type": "display_data"
    },
    {
     "data": {
      "image/png": "[encoded data removed]",
      "text/plain": [
       "<Figure size 640x480 with 1 Axes>"
      ]
     },
     "metadata": {},
     "output_type": "display_data"
    }
   ],
   "source": [
    "res_df=pd.DataFrame()\n",
    "for n in [results_word, \n",
    "          results_tf,\n",
    "          results_bert]:\n",
    "    rw= pd.DataFrame(n,columns=['model_n',n[0][2],'vec'])\n",
    "    rw=rw.drop('vec',axis=1)\n",
    "    rw=rw.set_index(['model_n'])\n",
    "    res_df[n[0][2]]=rw[n[0][2]]\n",
    "\n",
    "display(res_df)\n",
    "plt.figure(figsize=(16,14))\n",
    "res_df.plot.bar()# plt.hist(res_df1,density=True)\n",
    "plt.show()    "
   ]
  },
  {
   "cell_type": "markdown",
   "id": "feb0ce74-f575-405d-a1c1-40bb3befa903",
   "metadata": {},
   "source": [
    "### Модель CNN"
   ]
  },
  {
   "cell_type": "code",
   "execution_count": null,
   "id": "5e729c2c-9dd0-4b81-b764-83b0c39d2b87",
   "metadata": {},
   "outputs": [
    {
     "name": "stdout",
     "output_type": "stream",
     "text": [
      "Epoch 1/10\n",
      "\u001b[1m 6/16\u001b[0m \u001b[32m━━━━━━━\u001b[0m\u001b[37m━━━━━━━━━━━━━\u001b[0m \u001b[1m1:41\u001b[0m 10s/step - loss: 0.2066 - mae: 0.2066"
     ]
    }
   ],
   "source": [
    "max_length = vector_size\n",
    "physical_devices = tf.config.list_physical_devices('GPU')\n",
    "\n",
    "for X_train1,X_test1,mod in [[X_train_wtv_m,X_test_wtv_m,'WordVec'],\n",
    "                          [X_train_tft_m,X_test_tft_m,'TFT'],\n",
    "    \n",
    "                          [X_train_bert_m,X_test_bert_m,'BERT']]:\n",
    "    \n",
    "    jit(target_backend='cuda') \n",
    "    njit(parallel=True)\n",
    "    \n",
    "    \n",
    "    inp_shape = X_train1.shape[1]\n",
    "    voc_size = X_train1.shape[0]\n",
    "\n",
    "    model_cnn = Sequential([\n",
    "        Embedding(input_dim=inp_shape,output_dim=max_length),\n",
    "        Conv1D(256, 5, activation='relu'),\n",
    "        tf.keras.layers.GlobalMaxPooling1D(),\n",
    "        Dense(100, activation='relu'),\n",
    "        Dense(1, activation='sigmoid')])\n",
    "    model_cnn.compile(optimizer='adam', loss='mean_absolute_error',metrics=['mae'])    \n",
    "    \n",
    "    model_cnn.fit(X_train1, y_train, epochs=10, batch_size=64, validation_data=(X_test1, y_test))\n",
    "    pred = model_cnn.predict(X_train1)\n",
    "   # report = classification_report(y_test, np.round(pred))\n",
    "    print(mod,mean_absolute_error(y_train,pred))\n",
    "    res_df.loc['CNN',mod] = mean_absolute_error(y_train,pred)   \n",
    "\n",
    "\n",
    "display (res_df)"
   ]
  },
  {
   "cell_type": "code",
   "execution_count": null,
   "id": "88e877c8-d7f0-4146-a418-41a090244151",
   "metadata": {},
   "outputs": [],
   "source": [
    "\n",
    "display (res_df)   \n",
    "plt.figure(figsize=(16,14))\n",
    "res_df.plot.bar()# plt.hist(res_df1,density=True)\n",
    "plt.show()    "
   ]
  },
  {
   "cell_type": "markdown",
   "id": "07143d4d-f309-4a99-9eb6-3aae67de1fee",
   "metadata": {},
   "source": [
    "## Выводы по выбору векторизации текста и выбору модели для тестирования"
   ]
  },
  {
   "cell_type": "markdown",
   "id": "c3c7b73e-822a-4733-a26e-94ddcaabe399",
   "metadata": {},
   "source": [
    " - модель LinearRegression показала  результат по метрике\n",
    " - выбрана модель CNN и векторизация BERT"
   ]
  },
  {
   "cell_type": "markdown",
   "id": "2f870d77",
   "metadata": {
    "cellId": "tbnfwg686jpxjdsw7cqbl",
    "execution_id": "5e14c3be-a481-438e-a979-0f4621acea44",
    "id": "2f870d77"
   },
   "source": [
    "## Тестирование модели\n",
    "\n",
    "Настало время протестировать модель. Для этого получите эмбеддинги для всех тестовых изображений из папки `test_images`, выберите случайные 10 запросов из файла `test_queries.csv` и для каждого запроса выведите наиболее релевантное изображение. Сравните визуально качество поиска."
   ]
  },
  {
   "cell_type": "code",
   "execution_count": null,
   "id": "4d065c1a-5d13-4b2f-bef3-4e1493d10227",
   "metadata": {},
   "outputs": [],
   "source": [
    "try :\n",
    "    df4 = pd.read_csv('D:/YandexDisk/masterskay/сводный проект 5/to_upload/test_queries.csv' , sep ='|',index_col=[0])\n",
    "    zipfile = 0                  \n",
    "except:\n",
    "    url = 'https://code.s3.yandex.net/datasets/dsplus_integrated_project_4.zip'\n",
    "    file_name = 'dsplus_integrated_project_4.zip'\n",
    "    \n",
    "    with urlopen(url) as response, open(file_name, 'wb') as out_file:\n",
    "        shutil.copyfileobj(response, out_file)\n",
    "        \n",
    "    # extracting required file from zipfile\n",
    "        with zipfile.ZipFile(file_name) as zf:\n",
    "            zf.extract('to_upload/test_queries.csv')\n",
    "\n",
    "    df4 = pd.read_csv('to_upload/test_queries.csv', sep ='|',index_col=[0])\n",
    "    zipfile = 1\n",
    "    \n",
    "display(df4.head())\n",
    "df4.info()\n",
    "df4.nunique()"
   ]
  },
  {
   "cell_type": "code",
   "execution_count": null,
   "id": "c00519f4-2ae8-422a-bfd4-2bc0e8643dc9",
   "metadata": {},
   "outputs": [],
   "source": [
    "df4_clear = df4.copy()\n",
    "df4_clear['disclaim'] = df4_clear['query_text'].apply(lambda x  : bool(re.search(chk_pat, x)))\n",
    "\n",
    "#df4_clear = df4_clear[df4_clear['disclaim']==False].copy()\n",
    "display(df4_clear)#[df4_clear['disclaim']==False])"
   ]
  },
  {
   "cell_type": "code",
   "execution_count": null,
   "id": "0156f322-fb92-4b50-96e0-39b85fea5ccc",
   "metadata": {},
   "outputs": [],
   "source": [
    "df4_clear.info()"
   ]
  },
  {
   "cell_type": "code",
   "execution_count": null,
   "id": "a3a3753b-ff4c-4e2a-b077-a899ab8a2626",
   "metadata": {},
   "outputs": [],
   "source": [
    "# векторизуем все изображения тест \"D:\\YandexDisk\\masterskay\\сводный проект 5\\to_upload\\test_images\\191003283_992257f835.jpg\"\n",
    "path_test = 'to_upload/test_images/'\n",
    "test_im_c = vec_img2(df4_clear['image'],path_test,zipfile)\n",
    "\n",
    "len_c = test_im_c.shape[0]"
   ]
  },
  {
   "cell_type": "code",
   "execution_count": null,
   "id": "0aa6b759-b42f-46c2-8382-7d6b56c9fdd9",
   "metadata": {},
   "outputs": [],
   "source": [
    "test_im_c"
   ]
  },
  {
   "cell_type": "code",
   "execution_count": null,
   "id": "3085f0df-eadd-459a-ae73-a0b9270fc1d8",
   "metadata": {
    "cellId": "q6sn9kh039f4a6xvu66y7",
    "id": "801e0c32"
   },
   "outputs": [],
   "source": [
    "\n",
    "def pad_att2 (tokenized):\n",
    "    max_len = len(padded_train[1])\n",
    "    padded = np.array([tokenized + [0]*(max_len - len(tokenized))])\n",
    "    attention_mask = np.where(padded != 0, 1, 0)\n",
    "    return (padded,attention_mask)    \n",
    "\n",
    "\n",
    "def val_test(X):\n",
    "    pad ,am = pad_att2(tokenizer.encode(X,truncation=True, padding=True,max_length=max_len,add_special_tokens=True,))\n",
    "    x_t = bat_x(pad ,am)\n",
    "    x_t = word_coo_add (x_t_c)\n",
    "    returt (x_t)\n",
    "    \n",
    "def make_coo(xx):\n",
    "    #len_c = test_im_c.shape[0]\n",
    "    x_a = xx\n",
    "    x_a = np.repeat(xx, repeats=len_c, axis=0)\n",
    "    X_test_t = hstack((test_im_c, x_a))\n",
    "    return (X_test_t)\n",
    "\n",
    "def make_coo2 (xx):\n",
    "    vc = vectorize(xx)\n",
    "    x_a = coo_matrix(np.resize(vc,(len_c,len(vc))))\n",
    "    \n",
    "    X_test_t = hstack((test_im_c, x_a))\n",
    "    return (X_test_t)\n",
    "    \n",
    "def ind_best (X_test_t):\n",
    "    pred = model_cnn.predict(X_test_t)#.predict\n",
    "    ind = pred.index(max(pred))\n",
    "    return (ind)\n",
    "\n",
    "def ind_best_rf (model_rf,X_test_t):\n",
    "    \n",
    "    pred = model_rf.predict(X_test_t) #,[1]*len_c)#.predict\n",
    "    ind = np.unravel_index(np.argmax(pred), pred.shape)[0]\n",
    "    return (ind)\n",
    "\n",
    "def plot_b (text,nam_im):\n",
    "    #nam_im = text_val.loc[ind,'image']\n",
    "    img = Image.open(path_test+nam_im)\n",
    "    fig = plt.figure(figsize=(10,10))\n",
    "    #fig.add_subplot(2), 1)\n",
    "    plt.imshow(img)\n",
    "    \n",
    "    # для компактности удаляем оси и прижимаем изображения друг к другу\n",
    "    plt.xticks(text)#['query_text'])\n",
    "    \n",
    "    plt.tight_layout()\n",
    "    plt.show()     \n",
    "    return()"
   ]
  },
  {
   "cell_type": "code",
   "execution_count": null,
   "id": "d84b1e9d-8359-499b-aeef-ac16b1c11952",
   "metadata": {
    "cellId": "q6sn9kh039f4a6xvu66y7",
    "id": "801e0c32"
   },
   "outputs": [],
   "source": [
    "    \n",
    "text_val = df4_clear.sample(10)\n",
    "text_val['lemm_text'] =  text_val['query_text'].apply(lambda x: lem_spa(x))\n",
    "model_rf = RandomForestRegressor(warm_start=True,random_state=RANDOM_STATE).fit(X_train_wtv_m,y_train)\n",
    "text_val = text_val.reset_index()"
   ]
  },
  {
   "cell_type": "code",
   "execution_count": null,
   "id": "ed2e4255-709a-4fd2-9d33-a348a082fd70",
   "metadata": {
    "cellId": "q6sn9kh039f4a6xvu66y7",
    "id": "801e0c32"
   },
   "outputs": [],
   "source": [
    "for i in range (0,len(text_val) :\n",
    "    display(text_val.loc[i])\n",
    "    if text_val.loc[i,'disclaim']!=False : display('This image is unavailable in your country in compliance with local laws')\n",
    "    else : X_test_t = make_coo2(text_val.loc[i,'lemm_text']}\n",
    "        i_m = ind_best_rf(model_rf,X_test_t)\n",
    "        plot_b(text_val.loc[i,'query_text'],df4_clear.loc[i_m,'image'])\n",
    "        "
   ]
  },
  {
   "cell_type": "code",
   "execution_count": null,
   "id": "9ee6d84a-d6f4-4279-b384-a96c09d27a15",
   "metadata": {},
   "outputs": [],
   "source": [
    "vc = vectorize(text_val.loc[0,'lemm_text'])\n",
    "\n",
    "cm = coo_matrix(np.resize(vc,(len_c,len(vc))))\n",
    "\n",
    "X_test_t = hstack((test_im_c, cm))\n",
    "\n",
    "#model = RandomForestRegressor(warm_start=True,random_state=RANDOM_STATE).fit(X_train_wtv_m,y_train)\n",
    "pred = model_rf.predict(X_test_t) #,[1]*len_c)#.predict"
   ]
  },
  {
   "cell_type": "code",
   "execution_count": null,
   "id": "ce134929-8e23-493f-af23-028290a6f926",
   "metadata": {},
   "outputs": [],
   "source": [
    "#display(pred.index(pred.max()))\n",
    "#ind = pred.index(max(pred))\n",
    "peakIndexTuple = np.unravel_index(np.argmax(pred), pred.shape)\n",
    "ind = peakIndexTuple[0]\n",
    "display(df4_clear.loc[ind,'image'])\n",
    "plot_b(text_val.loc[0,'query_text'],df4_clear.loc[ind,'image'])"
   ]
  },
  {
   "cell_type": "markdown",
   "id": "128b727b-7d0e-4e62-ba45-ad25bf9113c7",
   "metadata": {},
   "source": [
    "r22 = tokenizer.encode(text_val.loc[182,'lemm_text'] ,truncation=True, #apply(lambda x: \n",
    "                     padding=True,\n",
    "                     max_length=max_len,\n",
    "                     add_special_tokens=True,)\n",
    "display(r22)\n",
    "display(len(r22))\n",
    "\n",
    "#display(pad_att2(r22))\n",
    "pad, am = pad_att2(r22)\n",
    "\n",
    "sss33 = bat_x(pad, am)# model_bert(torch.LongTensor(pad), attention_mask=torch.LongTensor(am))\n",
    "len_c = test_im_c.shape[0]\n",
    "display(test_im_c.shape[0])\n",
    "x_a = sss33\n",
    "x_a = np.repeat(x_a, repeats=len_c, axis=0)\n",
    "\n",
    "X_test_t = hstack((test_im_c, x_a))\n",
    "display(X_test_t)\n",
    "display(ind_best(X_test_t))"
   ]
  },
  {
   "cell_type": "code",
   "execution_count": null,
   "id": "4a78abe8-ba85-4677-8f89-36663ba3d442",
   "metadata": {},
   "outputs": [],
   "source": [
    "text_val.info()\n",
    "display(text_val)\n",
    "#tokenizer.encode(text_val.loc[182,'lemm_text'] ,truncation=True,padding=True,max_length=max_len,add_special_tokens=True,)"
   ]
  },
  {
   "cell_type": "markdown",
   "id": "88a3a779-d4f6-40b3-b3a7-31647cd5de8e",
   "metadata": {},
   "source": [
    "text_val.info()\n",
    "display(text_val)\n",
    "text_val.loc[182,'lemm_text']\n"
   ]
  },
  {
   "cell_type": "markdown",
   "id": "fab1345a",
   "metadata": {
    "cellId": "dnvdkzzxdpet1yc4m64cx",
    "execution_id": "3e367f6a-97e3-4ed7-9b73-39ed363fd2b7",
    "id": "fab1345a"
   },
   "source": [
    "## 8. Выводы\n",
    "\n",
    "- [x]  Jupyter Notebook открыт\n",
    "- [ ]  Весь код выполняется без ошибок\n",
    "- [ ]  Ячейки с кодом расположены в порядке исполнения\n",
    "- [ ]  Исследовательский анализ данных выполнен\n",
    "- [ ]  Проверены экспертные оценки и краудсорсинговые оценки\n",
    "- [ ]  Из датасета исключены те объекты, которые выходят за рамки юридических ограничений\n",
    "- [ ]  Изображения векторизованы\n",
    "- [ ]  Текстовые запросы векторизованы\n",
    "- [ ]  Данные корректно разбиты на тренировочную и тестовую выборки\n",
    "- [ ]  Предложена метрика качества работы модели\n",
    "- [ ]  Предложена модель схожести изображений и текстового запроса\n",
    "- [ ]  Модель обучена\n",
    "- [ ]  По итогам обучения модели сделаны выводы\n",
    "- [ ]  Проведено тестирование работы модели\n",
    "- [ ]  По итогам тестирования визуально сравнили качество поиска"
   ]
  }
 ],
 "metadata": {
  "ExecuteTimeLog": [
   {
    "duration": 2356,
    "start_time": "2025-04-28T15:21:08.840Z"
   },
   {
    "duration": 0,
    "start_time": "2025-04-28T15:21:11.199Z"
   },
   {
    "duration": 0,
    "start_time": "2025-04-28T15:21:11.201Z"
   },
   {
    "duration": 0,
    "start_time": "2025-04-28T15:21:11.201Z"
   },
   {
    "duration": 92044,
    "start_time": "2025-04-28T15:36:02.796Z"
   },
   {
    "duration": 1362,
    "start_time": "2025-04-28T15:37:34.843Z"
   },
   {
    "duration": 0,
    "start_time": "2025-04-28T15:37:36.207Z"
   },
   {
    "duration": 53,
    "start_time": "2025-04-28T15:39:52.753Z"
   },
   {
    "duration": 2331,
    "start_time": "2025-04-28T15:40:30.639Z"
   },
   {
    "duration": 4,
    "start_time": "2025-04-28T16:14:34.408Z"
   },
   {
    "duration": 35,
    "start_time": "2025-04-28T16:15:44.352Z"
   },
   {
    "duration": 9092,
    "start_time": "2025-04-28T16:16:44.218Z"
   },
   {
    "duration": 35,
    "start_time": "2025-04-28T16:17:05.666Z"
   },
   {
    "duration": 16,
    "start_time": "2025-04-28T16:17:14.442Z"
   },
   {
    "duration": 4003,
    "start_time": "2025-04-28T16:17:22.466Z"
   },
   {
    "duration": 293,
    "start_time": "2025-04-28T16:19:42.715Z"
   },
   {
    "duration": 20,
    "start_time": "2025-04-28T16:58:17.407Z"
   },
   {
    "duration": 23,
    "start_time": "2025-04-28T16:58:43.307Z"
   },
   {
    "duration": 63,
    "start_time": "2025-04-28T17:00:02.150Z"
   },
   {
    "duration": 33,
    "start_time": "2025-04-28T17:01:22.637Z"
   },
   {
    "duration": 63,
    "start_time": "2025-04-28T17:02:20.016Z"
   },
   {
    "duration": 2580,
    "start_time": "2025-04-28T17:07:45.587Z"
   },
   {
    "duration": 45,
    "start_time": "2025-04-28T17:13:52.613Z"
   },
   {
    "duration": 101,
    "start_time": "2025-04-28T17:14:22.412Z"
   },
   {
    "duration": 5080,
    "start_time": "2025-04-28T17:15:21.238Z"
   },
   {
    "duration": 32,
    "start_time": "2025-04-28T17:16:17.962Z"
   },
   {
    "duration": 33,
    "start_time": "2025-04-28T17:17:09.697Z"
   }
  ],
  "celltoolbar": "Отсутствует",
  "colab": {
   "provenance": []
  },
  "kernelspec": {
   "display_name": "Python 3 (ipykernel)",
   "language": "python",
   "name": "python3"
  },
  "language_info": {
   "codemirror_mode": {
    "name": "ipython",
    "version": 3
   },
   "file_extension": ".py",
   "mimetype": "text/x-python",
   "name": "python",
   "nbconvert_exporter": "python",
   "pygments_lexer": "ipython3",
   "version": "3.12.9"
  },
  "notebookId": "e47b60f7-b2b4-44ee-beb3-b44a93eaf068",
  "notebookPath": "precode.ipynb",
  "toc": {
   "base_numbering": 1,
   "nav_menu": {},
   "number_sections": true,
   "sideBar": true,
   "skip_h1_title": true,
   "title_cell": "Table of Contents",
   "title_sidebar": "Contents",
   "toc_cell": false,
   "toc_position": {},
   "toc_section_display": true,
   "toc_window_display": false
  }
 },
 "nbformat": 4,
 "nbformat_minor": 5
}
